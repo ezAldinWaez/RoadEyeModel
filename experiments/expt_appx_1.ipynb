{
 "cells": [
  {
   "cell_type": "markdown",
   "metadata": {},
   "source": [
    "# How to evaluate image processing results?"
   ]
  },
  {
   "cell_type": "code",
   "execution_count": null,
   "metadata": {},
   "outputs": [],
   "source": [
    "from expt_utils import *"
   ]
  },
  {
   "cell_type": "markdown",
   "metadata": {},
   "source": [
    "## Image Ground Truth"
   ]
  },
  {
   "cell_type": "code",
   "execution_count": null,
   "metadata": {},
   "outputs": [],
   "source": [
    "img = plt.imread(f'{DS_DIR}/train/images/00029_1640.jpg')\n",
    "img_ground_truth = thresh_bin(plt.imread(f'{IMG_DIR}/ground_truth/00029_1640.jpg'), 10)\n",
    "\n",
    "plt.figure(figsize=(10, 3.5), tight_layout=True)\n",
    "\n",
    "plt.subplot(1, 2, 1), plt.axis('off'), plt.title('Original Image')\n",
    "plt.imshow(img)\n",
    "\n",
    "plt.subplot(1, 2, 2), plt.axis('off'), plt.title('Binary Ground Truth')\n",
    "plt.imshow(img_ground_truth, cmap='gray')\n",
    "\n",
    "plt.savefig(f'{OUT_DIR}/appx-01-01-img_ground_truth')"
   ]
  },
  {
   "cell_type": "markdown",
   "metadata": {},
   "source": [
    "## Trying to Find Vehicles Mask"
   ]
  },
  {
   "cell_type": "code",
   "execution_count": null,
   "metadata": {},
   "outputs": [],
   "source": [
    "img_background = get_video_background(f'{DS_DIR}/train/images', '00029')\n",
    "img_forground = cv.absdiff(img, img_background)\n",
    "img_forground_bin = thresh_otsu(img_forground)\n",
    "\n",
    "plt.figure(figsize=(10, 7), tight_layout=True)\n",
    "\n",
    "plt.subplot(2, 2, 1), plt.axis('off'), plt.title('Image')\n",
    "plt.imshow(img)\n",
    "\n",
    "plt.subplot(2, 2, 2), plt.axis('off'), plt.title('Image Background')\n",
    "plt.imshow(img_background)\n",
    "\n",
    "plt.subplot(2, 2, 3), plt.axis('off'), plt.title('Image Forground')\n",
    "plt.imshow(img_forground)\n",
    "\n",
    "plt.subplot(2, 2, 4), plt.axis('off'), plt.title('Image Forground Binary')\n",
    "plt.imshow(img_forground_bin, cmap='gray')\n",
    "\n",
    "plt.savefig(f'{OUT_DIR}/appx-01-02-find_vehicles_mask')"
   ]
  },
  {
   "cell_type": "markdown",
   "metadata": {},
   "source": [
    "## Evaluating the results"
   ]
  },
  {
   "cell_type": "code",
   "execution_count": null,
   "metadata": {},
   "outputs": [],
   "source": [
    "pd.DataFrame(evaluate(img_forground_bin, img_ground_truth),\n",
    "             index=['Forground Binary'])"
   ]
  }
 ],
 "metadata": {
  "kernelspec": {
   "display_name": ".venv",
   "language": "python",
   "name": "python3"
  },
  "language_info": {
   "codemirror_mode": {
    "name": "ipython",
    "version": 3
   },
   "file_extension": ".py",
   "mimetype": "text/x-python",
   "name": "python",
   "nbconvert_exporter": "python",
   "pygments_lexer": "ipython3",
   "version": "3.11.4"
  }
 },
 "nbformat": 4,
 "nbformat_minor": 2
}
