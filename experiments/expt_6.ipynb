{
 "cells": [
  {
   "cell_type": "markdown",
   "metadata": {},
   "source": [
    "# Edges Detection and Contoures"
   ]
  },
  {
   "cell_type": "markdown",
   "metadata": {},
   "source": [
    "## Introduction"
   ]
  },
  {
   "cell_type": "markdown",
   "metadata": {},
   "source": [
    "One of the most important features of a frame is Objects Edges and Contoures; by tracing the contours around objects, image processing algorithms can detect and recognize objects' shapes and track them.\n",
    "\n",
    "Canny algorithm find edges by detecting sudden changes in pixel intensity (i.e. sharp transitions in colors or grayscale).\n",
    "\n",
    "In this experiment, we'll detect the edges (i.e. using Canny Algorithm) and find the contoures (i.e. external contour) from them, then we can draw only the contours with length in a specific range.\n",
    "\n",
    "We convert an input image to its edges using Canny edge detection algorithm with some additional preprocessing steps:\n",
    "\n",
    "- Determine Lower and Upper Thresholds: by caclulating median intensity for the image; add and substract some value from it depending on a multiplier value to calculate lower and upper thresholds (e.g. if `multiplier=0.3`, we put `70%` of the median intensity value for lower threshold and `130%` of the median intensity value for the upper threshold).\n",
    "\n",
    "- Apply Blur using a specified blur kernel size (3\\*3): blur helps to smooth the image and reduce noise, which can improve the accuracy of edge detection.\n",
    "\n",
    "Once we get the edges we find and draw the External Contours. then we tried to apply some Morphological operations to reduse the Noise."
   ]
  },
  {
   "cell_type": "markdown",
   "metadata": {},
   "source": [
    "## Implementation"
   ]
  },
  {
   "cell_type": "code",
   "execution_count": null,
   "metadata": {},
   "outputs": [],
   "source": [
    "from expt_utils import *"
   ]
  },
  {
   "cell_type": "markdown",
   "metadata": {},
   "source": [
    "### Edges Detection (with Canny Algorithm)"
   ]
  },
  {
   "cell_type": "code",
   "execution_count": null,
   "metadata": {},
   "outputs": [],
   "source": [
    "def img_to_canny_edges(img, blur_kernel=None, multiplier=0.3):\n",
    "    \"\"\"\n",
    "    Detect the edges of the given `img` using Canny algorithm,\n",
    "    the upper and lower values are calculated depending on img\n",
    "    median value plus and minus some `multiplier` of it.\n",
    "\n",
    "    You can bluring the image before applying Canny by parsing\n",
    "    a `blur_kernel` to it (e.g. blur_kernel=(5, 5)).\n",
    "\n",
    "    You can change `blur_kernel` size or `multiplier` value to\n",
    "    control how much detailes are detected.\n",
    "    \"\"\"\n",
    "    if blur_kernel:\n",
    "        img = cv.blur(img, blur_kernel)\n",
    "    img_med = np.median(img)\n",
    "    img_med_lower = int(max(0, (1 - multiplier) * img_med))\n",
    "    img_med_upper = int(min(255, (1 + multiplier) * img_med))\n",
    "    img_edges = cv.Canny(img, img_med_lower, img_med_upper)\n",
    "    return img_edges"
   ]
  },
  {
   "cell_type": "code",
   "execution_count": null,
   "metadata": {},
   "outputs": [],
   "source": [
    "img = plt.imread(f'{DS_DIR}/frames/train/00012/00012_1560.jpg')\n",
    "img_edges = img_to_canny_edges(img, blur_kernel=(3, 3), multiplier=.50)\n",
    "\n",
    "plt.figure(figsize=(10, 3.5), tight_layout=True)\n",
    "\n",
    "plt.subplot(1, 2, 1), plt.axis('off')\n",
    "plt.title('Image')\n",
    "plt.imshow(img)\n",
    "\n",
    "plt.subplot(1, 2, 2), plt.axis('off')\n",
    "plt.title('Canny Edges (blur kernel: (3, 3), multiplier: .50)')\n",
    "plt.imshow(img_edges, cmap='gray')\n",
    "\n",
    "plt.savefig(f'{OUT_DIR}/01-01-canny_edges')"
   ]
  },
  {
   "cell_type": "code",
   "execution_count": null,
   "metadata": {},
   "outputs": [],
   "source": [
    "def _idx_to_kernel(idx):\n",
    "    return None if idx == 0 else (idx * 2 + 1, idx * 2 + 1)\n",
    "\n",
    "\n",
    "def _render(blur_kernel, multiplier):\n",
    "    img_edges = img_to_canny_edges(img, blur_kernel, multiplier)\n",
    "    cv.imshow('Canny Edges', img_edges)\n",
    "\n",
    "\n",
    "def _update_blur_kernel(idx):\n",
    "    _render(\n",
    "        blur_kernel=_idx_to_kernel(idx),\n",
    "        multiplier=cv.getTrackbarPos('Multiplier', 'Canny Edges'))\n",
    "\n",
    "\n",
    "def _update_multiplier(idx):\n",
    "    _render(\n",
    "        blur_kernel=_idx_to_kernel(cv.getTrackbarPos('Blur Kernel', 'Canny Edges')),\n",
    "        multiplier=(0.01 * idx))\n",
    "\n",
    "\n",
    "_render(blur_kernel=None, multiplier=0.3)\n",
    "cv.createTrackbar('Blur Kernel', 'Canny Edges', 0, 5, _update_blur_kernel)\n",
    "cv.createTrackbar('Multiplier', 'Canny Edges', 30, 100, _update_multiplier)\n",
    "\n",
    "destroy_when_esc()"
   ]
  },
  {
   "cell_type": "markdown",
   "metadata": {},
   "source": [
    "### Find Contours from Edges"
   ]
  },
  {
   "cell_type": "markdown",
   "metadata": {},
   "source": [
    "> To add some control, we can select only contours with length in a specific range (i.e. from `rng_down` to `rng_up`)."
   ]
  },
  {
   "cell_type": "code",
   "execution_count": null,
   "metadata": {},
   "outputs": [],
   "source": [
    "def edges_to_contours(edges, rng_down=0, rng_up=np.inf, color=(255, 0, 0), thickness=1):\n",
    "    \"\"\"\n",
    "    Find and draw contours from a given `edges`, the contours\n",
    "    are drawen on black image with the given `color` and\n",
    "    `thickness`.\n",
    "    \n",
    "    You can change `rng_down` and `rng_up` to determain the\n",
    "    range that contours' lengths are belong to.\n",
    "    \"\"\"\n",
    "    all_contours = cv.findContours(edges, cv.RETR_EXTERNAL, cv.CHAIN_APPROX_SIMPLE)[0]\n",
    "    selected_contours = [c for c in all_contours if rng_down < len(c) < rng_up]\n",
    "    img_contours = np.zeros((*edges.shape[:2], 3)).astype('uint8')\n",
    "    cv.drawContours(img_contours, selected_contours, -1, color, thickness)\n",
    "    return img_contours"
   ]
  },
  {
   "cell_type": "code",
   "execution_count": null,
   "metadata": {},
   "outputs": [],
   "source": [
    "img_edges = img_to_canny_edges(img, blur_kernel=(5, 5), multiplier=.50)\n",
    "img_contours = edges_to_contours(img_edges, rng_down=20, rng_up=250)\n",
    "\n",
    "\n",
    "plt.figure(figsize=(10, 3.5), tight_layout=True)\n",
    "\n",
    "plt.subplot(1, 2, 1), plt.axis('off')\n",
    "plt.title('Canny Edges (blur kernel: (5, 5), multiplier: .50)')\n",
    "plt.imshow(img_edges, cmap='gray')\n",
    "\n",
    "plt.subplot(1, 2, 2), plt.axis('off')\n",
    "plt.title('Contours (length range: [20, 250])')\n",
    "plt.imshow(img_contours, cmap='gray')\n",
    "\n",
    "plt.savefig(f'{OUT_DIR}/01-02-edges_contours')"
   ]
  },
  {
   "cell_type": "code",
   "execution_count": null,
   "metadata": {},
   "outputs": [],
   "source": [
    "\n",
    "def _render(blur_kernel, multiplier, rng_down, rng_up):\n",
    "    img_edges = img_to_canny_edges(img, blur_kernel, multiplier)\n",
    "    img_edges_contours = edges_to_contours(img_edges, rng_down, rng_up)\n",
    "    img_edges_contours_bgr = cv.cvtColor(img_edges_contours, cv.COLOR_BGR2RGB)\n",
    "    cv.imshow('Contours', img_edges_contours_bgr)\n",
    "\n",
    "\n",
    "def _update_blur_kernel(idx):\n",
    "    _render(\n",
    "        blur_kernel=_idx_to_kernel(idx),\n",
    "        multiplier=cv.getTrackbarPos('Multiplier', 'Contours'),\n",
    "        rng_down=cv.getTrackbarPos('Range Down', 'Contours'),\n",
    "        rng_up=cv.getTrackbarPos('Range Up', 'Contours'))\n",
    "\n",
    "\n",
    "def _update_multiplier(idx):\n",
    "    _render(\n",
    "        blur_kernel=_idx_to_kernel(\n",
    "            cv.getTrackbarPos('Blur Kernel', 'Contours')),\n",
    "        multiplier=(0.01 * idx),\n",
    "        rng_down=cv.getTrackbarPos('Range Down', 'Contours'),\n",
    "        rng_up=cv.getTrackbarPos('Range Up', 'Contours'))\n",
    "\n",
    "\n",
    "def _update_rng_down(idx):\n",
    "    _render(\n",
    "        blur_kernel=_idx_to_kernel(\n",
    "            cv.getTrackbarPos('Blur Kernel', 'Contours')),\n",
    "        multiplier=0.01 * cv.getTrackbarPos('Multiplier', 'Contours'),\n",
    "        rng_down=int(cv.getTrackbarPos('Range Down', 'Contours')),\n",
    "        rng_up=idx)\n",
    "\n",
    "\n",
    "def _update_rng_up(idx):\n",
    "    _render(\n",
    "        blur_kernel=_idx_to_kernel(\n",
    "            cv.getTrackbarPos('Blur Kernel', 'Contours')),\n",
    "        multiplier=0.01 * cv.getTrackbarPos('Multiplier', 'Contours'),\n",
    "        rng_down=idx,\n",
    "        rng_up=int(cv.getTrackbarPos('Range Up', 'Contours')))\n",
    "\n",
    "\n",
    "_render(0, .30, 0, 9999)\n",
    "cv.createTrackbar('Blur Kernel', 'Contours', 0, 5, _update_blur_kernel)\n",
    "cv.createTrackbar('Multiplier', 'Contours', 30, 100, _update_multiplier)\n",
    "cv.createTrackbar('Range Down', 'Contours', 0, 9999, _update_rng_down)\n",
    "cv.createTrackbar('Range Up', 'Contours', 9999, 9999, _update_rng_up)\n",
    "\n",
    "\n",
    "destroy_when_esc()"
   ]
  },
  {
   "cell_type": "markdown",
   "metadata": {},
   "source": [
    "### Enhancing Contours by Morphological Operations"
   ]
  },
  {
   "cell_type": "markdown",
   "metadata": {},
   "source": [
    "For more enhancements we apply CLOSE morph operation on contour image."
   ]
  },
  {
   "cell_type": "code",
   "execution_count": null,
   "metadata": {},
   "outputs": [],
   "source": [
    "img_edges = img_to_canny_edges(img, blur_kernel=(5, 5), multiplier=.50)\n",
    "img_contours = edges_to_contours(img_edges, rng_down=20, rng_up=250)\n",
    "img_edges_morph = cv.morphologyEx(img_edges, cv.MORPH_CLOSE, np.ones((5, 5), np.uint8))\n",
    "img_contours_morph = edges_to_contours(img_edges_morph)\n",
    "\n",
    "\n",
    "plt.figure(figsize=(10, 7), tight_layout=True)\n",
    "\n",
    "plt.subplot(2, 2, 1), plt.axis('off'), plt.title('Edges')\n",
    "plt.imshow(img_edges, cmap='gray')\n",
    "\n",
    "plt.subplot(2, 2, 2), plt.axis('off'), plt.title('Contours')\n",
    "plt.imshow(img_contours)\n",
    "\n",
    "plt.subplot(2, 2, 3), plt.axis('off'), plt.title('Edges with Morph')\n",
    "plt.imshow(img_edges_morph, cmap='gray')\n",
    "\n",
    "plt.subplot(2, 2, 4), plt.axis('off'), plt.title('Contours with Morph')\n",
    "plt.imshow(img_contours_morph)\n",
    "\n",
    "plt.savefig(f'{OUT_DIR}/01-03-morph_edges_contours')"
   ]
  },
  {
   "cell_type": "markdown",
   "metadata": {},
   "source": [
    "By applying Morphological operation we can see clearly that it refine the contours of objects by filling gaps, closing small breaks, and smoothing jagged edges. This enhances the completeness and continuity of contours, making them more suitable for precise object recognition."
   ]
  }
 ],
 "metadata": {
  "kernelspec": {
   "display_name": "Python 3",
   "language": "python",
   "name": "python3"
  },
  "language_info": {
   "codemirror_mode": {
    "name": "ipython",
    "version": 3
   },
   "file_extension": ".py",
   "mimetype": "text/x-python",
   "name": "python",
   "nbconvert_exporter": "python",
   "pygments_lexer": "ipython3",
   "version": "3.11.8"
  }
 },
 "nbformat": 4,
 "nbformat_minor": 2
}
