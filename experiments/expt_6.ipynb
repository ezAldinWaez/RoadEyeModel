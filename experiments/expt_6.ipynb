{
 "cells": [
  {
   "cell_type": "markdown",
   "metadata": {},
   "source": [
    "# Object Detection"
   ]
  },
  {
   "cell_type": "code",
   "execution_count": 1,
   "metadata": {},
   "outputs": [],
   "source": [
    "from expt_utils import *"
   ]
  },
  {
   "cell_type": "markdown",
   "metadata": {},
   "source": [
    "## Background Model Initialization"
   ]
  },
  {
   "cell_type": "code",
   "execution_count": 2,
   "metadata": {},
   "outputs": [],
   "source": [
    "frames_dir = f'{DS_DIR}/test/images'\n",
    "\n",
    "frames_files = sorted([\n",
    "    os.path.join(frames_dir, file_name)\n",
    "    for file_name in os.listdir(frames_dir)\n",
    "    if file_name.endswith('.jpg') and file_name.split('_')[0] == '00062'\n",
    "])\n",
    "\n",
    "num_frames = len(frames_files)\n",
    "\n",
    "base_frame = plt.imread(frames_files[-1])\n",
    "base_frame = scale_img(base_frame, 0.6)\n",
    "base_frame_gray = cv.cvtColor(base_frame, cv.COLOR_RGB2GRAY).astype(np.float32)\n",
    "\n",
    "\n",
    "def _render(frame_idx):\n",
    "    img = cv.imread(frames_files[frame_idx])\n",
    "    img = scale_img(img, 0.6)\n",
    "    img_gray = cv.cvtColor(img, cv.COLOR_BGR2GRAY).astype(np.float32)\n",
    "    img_diff = cv.absdiff(img_gray, base_frame_gray).astype(np.uint8)\n",
    "    fg_mask = cv.threshold(img_diff, 30, 255, cv.THRESH_BINARY)[1]\n",
    "    cv.imshow('Frame', img)\n",
    "    cv.imshow('Differential Frame', img_diff)\n",
    "    cv.imshow('Foreground Mask', fg_mask)\n",
    "\n",
    "\n",
    "_render(frame_idx=0)\n",
    "cv.createTrackbar('Frame Idx', 'Frame', 0, num_frames-1, _render)\n",
    "\n",
    "destroy_when_esc()"
   ]
  },
  {
   "cell_type": "markdown",
   "metadata": {},
   "source": [
    "## Adaptive Background Subtraction with Gaussian Mixture Models (GMM)"
   ]
  },
  {
   "cell_type": "code",
   "execution_count": 3,
   "metadata": {},
   "outputs": [],
   "source": [
    "bg_subtractor = cv.createBackgroundSubtractorMOG2()\n",
    "\n",
    "\n",
    "def _render(frame_idx):\n",
    "    img = cv.imread(frames_files[frame_idx])\n",
    "    img = scale_img(img, 0.6)\n",
    "    fg_mask = bg_subtractor.apply(img)\n",
    "    cv.imshow('Frame', img)\n",
    "    cv.imshow('Foreground Mask', fg_mask)\n",
    "\n",
    "\n",
    "_render(frame_idx=0)\n",
    "cv.createTrackbar('Frame', 'Frame', 0, num_frames-1, _render)\n",
    "\n",
    "destroy_when_esc()"
   ]
  }
 ],
 "metadata": {
  "kernelspec": {
   "display_name": "Python 3",
   "language": "python",
   "name": "python3"
  },
  "language_info": {
   "codemirror_mode": {
    "name": "ipython",
    "version": 3
   },
   "file_extension": ".py",
   "mimetype": "text/x-python",
   "name": "python",
   "nbconvert_exporter": "python",
   "pygments_lexer": "ipython3",
   "version": "3.11.4"
  }
 },
 "nbformat": 4,
 "nbformat_minor": 2
}
