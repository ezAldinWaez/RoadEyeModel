{
 "cells": [
  {
   "cell_type": "markdown",
   "metadata": {},
   "source": [
    "# Edges Detection and Contoures"
   ]
  },
  {
   "cell_type": "code",
   "execution_count": null,
   "metadata": {},
   "outputs": [],
   "source": [
    "from expt_utils import *"
   ]
  },
  {
   "cell_type": "markdown",
   "metadata": {},
   "source": [
    "## Edges Detection (with Canny Algorithm)"
   ]
  },
  {
   "cell_type": "code",
   "execution_count": null,
   "metadata": {},
   "outputs": [],
   "source": [
    "img = plt.imread(f'{DS_DIR}/train/images/00012_1560.jpg')\n",
    "img_edges = img_to_canny_edges(img, blur_kernel=(3, 3))\n",
    "\n",
    "plt.figure(figsize=(10, 3.5), tight_layout=True)\n",
    "\n",
    "plt.subplot(1, 2, 1), plt.axis('off')\n",
    "plt.title('Image')\n",
    "plt.imshow(img)\n",
    "\n",
    "plt.subplot(1, 2, 2), plt.axis('off')\n",
    "plt.title('Canny Edges (blur kernel: (3, 3)')\n",
    "plt.imshow(img_edges, cmap='gray')\n",
    "\n",
    "plt.savefig(f'{OUT_DIR}/01-01-canny_edges')"
   ]
  },
  {
   "cell_type": "code",
   "execution_count": null,
   "metadata": {},
   "outputs": [],
   "source": [
    "def _idx_to_kernel(idx):\n",
    "    return None if idx == 0 else (idx * 2 + 1, idx * 2 + 1)\n",
    "\n",
    "\n",
    "def _render(blur_kernel):\n",
    "    img_edges = img_to_canny_edges(img, blur_kernel)\n",
    "    cv.imshow('Canny Edges', img_edges)\n",
    "\n",
    "\n",
    "def _update_blur_kernel(idx):\n",
    "    _render(blur_kernel=_idx_to_kernel(idx))\n",
    "\n",
    "\n",
    "_render(blur_kernel=None)\n",
    "cv.createTrackbar('Blur Kernel', 'Canny Edges', 0, 5, _update_blur_kernel)\n",
    "\n",
    "destroy_when_esc()"
   ]
  },
  {
   "cell_type": "markdown",
   "metadata": {},
   "source": [
    "## Find Contours from Edges"
   ]
  },
  {
   "cell_type": "code",
   "execution_count": null,
   "metadata": {},
   "outputs": [],
   "source": [
    "img_edges = img_to_canny_edges(img, blur_kernel=(5, 5))\n",
    "img_contours = edges_to_contours(img_edges, rng_down=20, rng_up=250)\n",
    "\n",
    "\n",
    "plt.figure(figsize=(10, 3.5), tight_layout=True)\n",
    "\n",
    "plt.subplot(1, 2, 1), plt.axis('off')\n",
    "plt.title('Canny Edges (blur kernel: (5, 5))')\n",
    "plt.imshow(img_edges, cmap='gray')\n",
    "\n",
    "plt.subplot(1, 2, 2), plt.axis('off')\n",
    "plt.title('Contours (length range: [20, 250])')\n",
    "plt.imshow(img_contours, cmap='gray')\n",
    "\n",
    "plt.savefig(f'{OUT_DIR}/01-02-edges_contours')"
   ]
  },
  {
   "cell_type": "code",
   "execution_count": null,
   "metadata": {},
   "outputs": [],
   "source": [
    "\n",
    "def _render(blur_kernel, rng_down, rng_up):\n",
    "    img_edges = img_to_canny_edges(img, blur_kernel)\n",
    "    img_edges_contours = edges_to_contours(img_edges, rng_down, rng_up)\n",
    "    img_edges_contours_bgr = cv.cvtColor(img_edges_contours, cv.COLOR_BGR2RGB)\n",
    "    cv.imshow('Contours', img_edges_contours_bgr)\n",
    "\n",
    "\n",
    "def _update_blur_kernel(idx):\n",
    "    _render(\n",
    "        blur_kernel=_idx_to_kernel(idx),\n",
    "        rng_down=cv.getTrackbarPos('Range Down', 'Contours'),\n",
    "        rng_up=cv.getTrackbarPos('Range Up', 'Contours'))\n",
    "\n",
    "\n",
    "def _update_rng_down(idx):\n",
    "    _render(\n",
    "        blur_kernel=_idx_to_kernel(\n",
    "            cv.getTrackbarPos('Blur Kernel', 'Contours')),\n",
    "        rng_down=int(cv.getTrackbarPos('Range Down', 'Contours')),\n",
    "        rng_up=idx)\n",
    "\n",
    "\n",
    "def _update_rng_up(idx):\n",
    "    _render(\n",
    "        blur_kernel=_idx_to_kernel(\n",
    "            cv.getTrackbarPos('Blur Kernel', 'Contours')),\n",
    "        rng_down=idx,\n",
    "        rng_up=int(cv.getTrackbarPos('Range Up', 'Contours')))\n",
    "\n",
    "\n",
    "_render(0, 0, 9999)\n",
    "cv.createTrackbar('Blur Kernel', 'Contours', 0, 5, _update_blur_kernel)\n",
    "cv.createTrackbar('Range Down', 'Contours', 0, 9999, _update_rng_down)\n",
    "cv.createTrackbar('Range Up', 'Contours', 9999, 9999, _update_rng_up)\n",
    "\n",
    "\n",
    "destroy_when_esc()"
   ]
  },
  {
   "cell_type": "markdown",
   "metadata": {},
   "source": [
    "## Enhancing Contours by Morphological Operations"
   ]
  },
  {
   "cell_type": "code",
   "execution_count": null,
   "metadata": {},
   "outputs": [],
   "source": [
    "img_edges = img_to_canny_edges(img, blur_kernel=(5, 5))\n",
    "img_contours = edges_to_contours(img_edges, rng_down=20, rng_up=250)\n",
    "img_edges_morph = cv.morphologyEx(img_edges, cv.MORPH_CLOSE, np.ones((5, 5), np.uint8))\n",
    "img_contours_morph = edges_to_contours(img_edges_morph)\n",
    "\n",
    "\n",
    "plt.figure(figsize=(10, 7), tight_layout=True)\n",
    "\n",
    "plt.subplot(2, 2, 1), plt.axis('off'), plt.title('Edges')\n",
    "plt.imshow(img_edges, cmap='gray')\n",
    "\n",
    "plt.subplot(2, 2, 2), plt.axis('off'), plt.title('Contours')\n",
    "plt.imshow(img_contours)\n",
    "\n",
    "plt.subplot(2, 2, 3), plt.axis('off'), plt.title('Edges with Morph')\n",
    "plt.imshow(img_edges_morph, cmap='gray')\n",
    "\n",
    "plt.subplot(2, 2, 4), plt.axis('off'), plt.title('Contours with Morph')\n",
    "plt.imshow(img_contours_morph)\n",
    "\n",
    "plt.savefig(f'{OUT_DIR}/01-03-morph_edges_contours')"
   ]
  }
 ],
 "metadata": {
  "kernelspec": {
   "display_name": "Python 3",
   "language": "python",
   "name": "python3"
  },
  "language_info": {
   "codemirror_mode": {
    "name": "ipython",
    "version": 3
   },
   "file_extension": ".py",
   "mimetype": "text/x-python",
   "name": "python",
   "nbconvert_exporter": "python",
   "pygments_lexer": "ipython3",
   "version": "3.11.4"
  }
 },
 "nbformat": 4,
 "nbformat_minor": 2
}
