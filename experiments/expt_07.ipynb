{
 "cells": [
  {
   "cell_type": "markdown",
   "metadata": {},
   "source": [
    "# Experiment 07"
   ]
  },
  {
   "cell_type": "markdown",
   "metadata": {},
   "source": [
    "## Introduction\n",
    "\n",
    "...\n",
    "\n",
    "...\n",
    "\n",
    "..."
   ]
  },
  {
   "cell_type": "markdown",
   "metadata": {},
   "source": [
    "## Background\n",
    "\n",
    "...\n",
    "\n",
    "...\n",
    "\n",
    "..."
   ]
  },
  {
   "cell_type": "markdown",
   "metadata": {},
   "source": [
    "## Implementation"
   ]
  },
  {
   "cell_type": "code",
   "execution_count": null,
   "metadata": {},
   "outputs": [],
   "source": [
    "import matplotlib.pyplot as plt\n",
    "import numpy as np\n",
    "import cv2 as cv\n",
    "\n",
    "from expt_utils import *"
   ]
  },
  {
   "cell_type": "code",
   "execution_count": null,
   "metadata": {},
   "outputs": [],
   "source": [
    "OUT_DIR = make_out_dir('07')"
   ]
  },
  {
   "cell_type": "code",
   "execution_count": null,
   "metadata": {},
   "outputs": [],
   "source": [
    "img = cv.imread(\"../dataset/frames/train/00012/00012_1560.jpg\")\n",
    "img_gray = cv.cvtColor(img, cv.COLOR_BGR2GRAY)"
   ]
  },
  {
   "cell_type": "code",
   "execution_count": null,
   "metadata": {},
   "outputs": [],
   "source": [
    "edges = cv.Canny(img, 100, 200)\n",
    "\n",
    "blurred = cv.GaussianBlur(img, (13, 13), 0)\n",
    "\n",
    "sobel_x = cv.Sobel(img, cv.CV_64F, 1, 0, ksize=3)\n",
    "sobel_y = cv.Sobel(img, cv.CV_64F, 0, 1, ksize=3)\n",
    "sobel_combined = cv.magnitude(sobel_x, sobel_y)\n",
    "\n",
    "log = cv.Laplacian(cv.GaussianBlur(img, (3, 3), 0), cv.CV_64F)\n",
    "\n",
    "plt.figure(figsize=(10, 6), tight_layout=True)\n",
    "\n",
    "plt.subplot(2, 2, 1), plt.axis('off'), plt.title('Canny')\n",
    "plt.imshow(edges, cmap='gray')\n",
    "\n",
    "plt.subplot(2, 2, 2), plt.axis('off'), plt.title('Gaussian')\n",
    "plt.imshow(blurred, cmap='gray')\n",
    "\n",
    "plt.subplot(2, 2, 3), plt.axis('off'), plt.title('Mexican Hat')\n",
    "plt.imshow(sobel_combined, cmap='gray')\n",
    "\n",
    "plt.subplot(2, 2, 4), plt.axis('off'), plt.title('Hanny')\n",
    "plt.imshow(log, cmap='gray')\n",
    "\n",
    "plt.savefig(f\"{OUT_DIR}/1-some_filters.png\",\n",
    "            format='png', bbox_inches='tight')"
   ]
  },
  {
   "cell_type": "code",
   "execution_count": null,
   "metadata": {},
   "outputs": [],
   "source": [
    "kernel_sizes = [3, 5, 7]\n",
    "num_kernel = len(kernel_sizes)\n",
    "\n",
    "\n",
    "def compute_metrics(edges):\n",
    "    contours, _ = cv.findContours(\n",
    "        edges, cv.RETR_EXTERNAL, cv.CHAIN_APPROX_SIMPLE)\n",
    "\n",
    "    edge_density = len(contours)\n",
    "\n",
    "    total_length = 0\n",
    "    for contour in contours:\n",
    "        total_length += cv.arcLength(contour, closed=True)\n",
    "    edge_length = total_length\n",
    "\n",
    "    return edge_density, edge_length\n",
    "\n",
    "\n",
    "plt.figure(figsize=(5, 3 * num_kernel))\n",
    "\n",
    "for i, kernel_size in enumerate(kernel_sizes):\n",
    "    detected_edges = cv.Canny(img_gray, 100, 200, kernel_size)\n",
    "    edge_density, edge_length = compute_metrics(detected_edges)\n",
    "    print(\n",
    "        f\"Kernel size: {kernel_size}, Edge Density: {edge_density}, Edge Length: {edge_length}\")\n",
    "\n",
    "    plt.subplot(num_kernel, 1, i + 1),  plt.axis('off')\n",
    "    plt.title(f\"figure with size : {kernel_size}\")\n",
    "    plt.imshow(detected_edges, cmap='gray')\n",
    "\n",
    "plt.savefig(f\"{OUT_DIR}/2-multi_kernel_sizes.png\",\n",
    "            format='png', bbox_inches='tight')"
   ]
  },
  {
   "cell_type": "markdown",
   "metadata": {},
   "source": [
    "## Conclusion\n",
    "\n",
    "...\n",
    "\n",
    "...\n",
    "\n",
    "..."
   ]
  }
 ],
 "metadata": {
  "kernelspec": {
   "display_name": "Python 3",
   "language": "python",
   "name": "python3"
  },
  "language_info": {
   "codemirror_mode": {
    "name": "ipython",
    "version": 3
   },
   "file_extension": ".py",
   "mimetype": "text/x-python",
   "name": "python",
   "nbconvert_exporter": "python",
   "pygments_lexer": "ipython3",
   "version": "3.11.8"
  }
 },
 "nbformat": 4,
 "nbformat_minor": 2
}
