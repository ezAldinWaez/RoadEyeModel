{
 "cells": [
  {
   "cell_type": "markdown",
   "metadata": {},
   "source": [
    "# Image Filters and Kernel evaluation"
   ]
  },
  {
   "cell_type": "markdown",
   "metadata": {},
   "source": [
    "## Introduction"
   ]
  },
  {
   "cell_type": "markdown",
   "metadata": {},
   "source": [
    "Image filters can be used to extract meaningful features from images for various tasks, which  play a crucial role in image processing, it allow us to manipulate and enhance digital images in various ways. These filters are mathematical operations applied to images, involve convolving the image with a kernel (mask). \n",
    "\n",
    "in this lab we will use edge detection filters like Canny, Sobel, Hanny (Laplacian based on Gaussian matrix (Hanny-laplacian)) and blur filters like Gaussian filter and evaluate their kernel sizes to choose the best one."
   ]
  },
  {
   "cell_type": "markdown",
   "metadata": {},
   "source": [
    "## Background"
   ]
  },
  {
   "cell_type": "markdown",
   "metadata": {},
   "source": [
    "...\n",
    "\n",
    "...\n",
    "\n",
    "..."
   ]
  },
  {
   "cell_type": "markdown",
   "metadata": {},
   "source": [
    "## Implementation"
   ]
  },
  {
   "cell_type": "markdown",
   "metadata": {},
   "source": [
    "<u>**1.Blur Filters:**</u> these filters reduce image details and sharpness, which resulting in a softened appearance. This blurring effect can be useful for simulating depth of field, reduce image artifacts and anonymizing sensitive information in the image.\n",
    "\n",
    "The Gaussian kernel can be generated using the following formula:\n",
    "\n",
    "$$\n",
    "G(x, y) = \\frac{1}{2\\pi\\sigma^2} \\exp{\\left(-\\frac{x^2 + y^2}{2\\sigma^2}\\right)}\n",
    "$$\n",
    "\n",
    "Where:\n",
    "\n",
    "$(x,y):$ The coordinates within the kernel matrix. These values are used to compute the distance from the center of the kernel.\n",
    "\n",
    "$σ:$ The standard deviation determines the spread or width of the Gaussian distribution. A larger (σ)\n",
    "value results in a wider and smoother Gaussian curve. \n",
    "\n",
    "Example Gaussian kernel for σ = 1 and k = 5:\n",
    "\n",
    "<center>\n",
    "\n",
    "| 0.003 | 0.013 | 0.022 | 0.013 | 0.003 |\n",
    "|---|---|---|---|---|\n",
    "| 0.013 | 0.059 | 0.097 | 0.059 | 0.013 |\n",
    "| 0.022 | 0.097 | 0.159 | 0.097 | 0.022 |\n",
    "| 0.013 | 0.059 | 0.097 | 0.059 | 0.013 |\n",
    "| 0.003 | 0.013 | 0.022 | 0.013 | 0.003 |\n",
    "\n",
    "</center>\n",
    "\n",
    "<u>**2.Edge Detection Filters:**</u> this king filters highlight sudden changes in intensity such as edges and boundaries between objects by convolving the image with specific kernels that emphasize horizontal, vertical, or diagonal edges.\n",
    "\n",
    "<u>**2.1.Sobel Filter:**</u> The Sobel operator is a discrete differentiation operator used to compute the gradient magnitude of an image, it is defined by two kernels, one for detecting horizontal edges and the other for vertical edges.\n",
    "\n",
    "Horizontal Sobel Kernel:\n",
    "\n",
    "<center>\n",
    "\n",
    "| -1 | 0 | 1 |\n",
    "|---|---|---|\n",
    "| -2 | 0 | 2 |\n",
    "| 1 | 0 | 1 |\n",
    "\n",
    "</center>\n",
    "\n",
    "Vertical Sobel Kernel:\n",
    "\n",
    "<center>\n",
    "\n",
    "| -1 | -2 | -1 |\n",
    "|---|---|---|\n",
    "| 0 | 0 | 0 |\n",
    "| 1 | 2 | 1 |\n",
    " \n",
    "</center> \n",
    "\n",
    "<u>**2.2.Canny Filter:**</u> The primary kernel used in the Canny edge detection algorithm is the same Sobel operator.\n",
    "\n",
    "<u>**2.3.Hanny Filter:**</u> The Hanny filter is a hybrid edge detection filter that combines Gaussian smoothing with the Laplacian of Gaussian (LoG) operator.\n",
    "\n",
    "Where:\n",
    "- Gaussian Kernel: The Gaussian kernel is used to smooth the image and reduce noise. It is a two-dimensional matrix obtained by evaluating the Gaussian function at different coordinates.\n",
    "\n",
    "- Laplacian of Gaussian (LoG) Kernel: The LoG kernel is derived from the Laplacian operator applied to the Gaussian-smoothed image. It enhances edges by emphasizing areas of rapid intensity change."
   ]
  },
  {
   "cell_type": "code",
   "execution_count": 2,
   "metadata": {},
   "outputs": [],
   "source": [
    "import matplotlib.pyplot as plt\n",
    "import numpy as np\n",
    "import cv2 as cv\n",
    "\n",
    "from expt_utils import *"
   ]
  },
  {
   "cell_type": "code",
   "execution_count": 3,
   "metadata": {},
   "outputs": [],
   "source": [
    "img = cv.imread(f'{DS_DIR}/frames/train/00012/00012_1560.jpg')\n",
    "img_gray = cv.cvtColor(img, cv.COLOR_BGR2GRAY)\n",
    "\n",
    "edges = cv.Canny(img, 100, 200)\n",
    "blurred = cv.GaussianBlur(img, (13, 13), 0)\n",
    "\n",
    "sobel_x = cv.Sobel(img, cv.CV_64F, 1, 0, ksize=3)\n",
    "sobel_y = cv.Sobel(img, cv.CV_64F, 0, 1, ksize=3)\n",
    "sobel_combined = cv.magnitude(sobel_x, sobel_y)\n",
    "\n",
    "log = cv.Laplacian(cv.GaussianBlur(img, (3, 3), 0), cv.CV_64F)\n",
    "\n",
    "cv.imshow('Canny', edges)\n",
    "cv.imshow('Gaussian', blurred)\n",
    "cv.imshow('Mexican Hat', sobel_combined)\n",
    "cv.imshow('Hanny', log)\n",
    "\n",
    "destroy_when_esc()"
   ]
  },
  {
   "cell_type": "code",
   "execution_count": 10,
   "metadata": {},
   "outputs": [
    {
     "name": "stdout",
     "output_type": "stream",
     "text": [
      "kernel_size = (3, 3), edge_density = 455, edge_length = 48658.9919219017\n",
      "kernel_size = (5, 5), edge_density = 279, edge_length = 24247.958065748215\n",
      "kernel_size = (7, 7), edge_density = 122, edge_length = 6925.973313212395\n"
     ]
    }
   ],
   "source": [
    "kernel_sizes = [(3, 3), (5, 5), (7, 7)]\n",
    "num_kernel = len(kernel_sizes)\n",
    "\n",
    "\n",
    "def compute_metrics(edges):\n",
    "    contours, _ = cv.findContours(\n",
    "        edges, cv.RETR_EXTERNAL, cv.CHAIN_APPROX_SIMPLE)\n",
    "\n",
    "    edge_density = len(contours)\n",
    "\n",
    "    total_length = 0\n",
    "    for contour in contours:\n",
    "        total_length += cv.arcLength(contour, closed=True)\n",
    "    edge_length = total_length\n",
    "\n",
    "    return edge_density, edge_length\n",
    "\n",
    "\n",
    "for kernel_size in kernel_sizes:\n",
    "\n",
    "    detected_edges = img_to_canny_edges(img, kernel_size)\n",
    "\n",
    "    edge_density, edge_length = compute_metrics(detected_edges)\n",
    "    print(f\"{kernel_size = }, {edge_density = }, {edge_length = }\")\n",
    "    cv.imshow(f'Figure ({kernel_size = })', detected_edges)\n",
    "\n",
    "destroy_when_esc()"
   ]
  },
  {
   "cell_type": "markdown",
   "metadata": {},
   "source": [
    "## Conclusion"
   ]
  },
  {
   "cell_type": "markdown",
   "metadata": {},
   "source": [
    "We determine visually that the best kernel size for the filters used is the kernel 3*3."
   ]
  }
 ],
 "metadata": {
  "kernelspec": {
   "display_name": "Python 3",
   "language": "python",
   "name": "python3"
  },
  "language_info": {
   "codemirror_mode": {
    "name": "ipython",
    "version": 3
   },
   "file_extension": ".py",
   "mimetype": "text/x-python",
   "name": "python",
   "nbconvert_exporter": "python",
   "pygments_lexer": "ipython3",
   "version": "3.11.8"
  }
 },
 "nbformat": 4,
 "nbformat_minor": 2
}
