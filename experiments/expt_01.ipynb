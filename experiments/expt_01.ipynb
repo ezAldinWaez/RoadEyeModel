{
 "cells": [
  {
   "cell_type": "markdown",
   "metadata": {},
   "source": [
    "# [exp 01]: Enhance Images using Edge detection and Contoures techniques"
   ]
  },
  {
   "cell_type": "markdown",
   "metadata": {},
   "source": [
    "# Introduction"
   ]
  },
  {
   "cell_type": "markdown",
   "metadata": {},
   "source": [
    "During our project we often use grayscale image instead of RGBscale due to grayscale images are simpler to process and require less memory and computational resources as we also don't care about the RGB colors in most of our tasks during the project.\n",
    "\n",
    "Enhancing images with image processing techniques for making object detection approach require identifing the objects features in the image, basically it's done by showing up the edges of the object and take the contours of these edges (for edge detection method we use Canny edge detection algorithm and find EXTERNAL contours for the edges).\n",
    "\n",
    "Finding the Contours will provide a way to identify the objects within an image. By tracing the contours around objects, image processing algorithms can detect and recognize shapes of the objects and make tracking for them.\n",
    "\n",
    "Using Canny edge detection algorithm in conjunction with contours will help to identify and outline the boundaries of objects within an image accurately, making the first step with image processing to detect the objects in the image."
   ]
  },
  {
   "cell_type": "markdown",
   "metadata": {},
   "source": [
    "# Background"
   ]
  },
  {
   "cell_type": "markdown",
   "metadata": {},
   "source": [
    "The idea of using Canny edge detection is to identify the edges of objects in an image, it detects sudden changes in pixel intensity (such as sharp transitions in color or grayscale) and marks them as edges[we are not going to delve deeply with the explanation of the algorithm right now until we deal with the details of algorithm as in expt_??].\n",
    "\n",
    "After applying Canny edge detection, we can identify and extract EXTERNAL contours from the edge-detected image, where Contours will provide a set of points that define the boundaries of the objects or a part of an object in the image."
   ]
  },
  {
   "cell_type": "markdown",
   "metadata": {},
   "source": [
    "# Implementation"
   ]
  },
  {
   "cell_type": "code",
   "execution_count": null,
   "metadata": {},
   "outputs": [],
   "source": [
    "import numpy as np\n",
    "import matplotlib.pyplot as plt\n",
    "import cv2\n",
    "import os"
   ]
  },
  {
   "cell_type": "markdown",
   "metadata": {},
   "source": [
    "## Convert Image to Gray"
   ]
  },
  {
   "cell_type": "code",
   "execution_count": null,
   "metadata": {},
   "outputs": [],
   "source": [
    "img = cv2.imread(\"img/01/img_01_1.png\")\n",
    "img_gray = cv2.cvtColor(img, cv2.COLOR_BGR2GRAY)\n",
    "\n",
    "plt.figure(figsize=(10, 4))\n",
    "\n",
    "plt.subplot(1, 2, 1)\n",
    "plt.imshow(img)\n",
    "plt.title('Original Image')\n",
    "plt.axis('off')\n",
    "\n",
    "plt.subplot(1, 2, 2)\n",
    "plt.imshow(img_gray, cmap='gray')\n",
    "plt.title('Gray Image')\n",
    "plt.axis('off')"
   ]
  },
  {
   "cell_type": "code",
   "execution_count": null,
   "metadata": {},
   "outputs": [],
   "source": [
    "def img_to_edges(img, blur_kernel=(5, 5)):\n",
    "    img_med = np.median(img)\n",
    "    img_med_lower = int(max(0, 0.7 * img_med))\n",
    "    img_med_upper = int(min(255, 1.3 * img_med))\n",
    "    img_blur = cv2.blur(img, blur_kernel)\n",
    "    img_edges = cv2.Canny(img_blur, img_med_lower, img_med_upper)\n",
    "    return img_edges"
   ]
  },
  {
   "cell_type": "code",
   "execution_count": null,
   "metadata": {},
   "outputs": [],
   "source": [
    "img_edges = img_to_edges(img)\n",
    "img_edges = img_to_edges(img_gray)\n",
    "\n",
    "\n",
    "plt.figure(figsize=(10, 6))\n",
    "\n",
    "plt.subplot(2, 2, 1)\n",
    "plt.imshow(img)\n",
    "plt.title('Original Image')\n",
    "plt.axis('off')\n",
    "\n",
    "plt.subplot(2, 2, 2)\n",
    "plt.imshow(img_gray, cmap='gray')\n",
    "plt.title('Gray Image')\n",
    "plt.axis('off')\n",
    "\n",
    "plt.subplot(2, 2, 3)\n",
    "plt.imshow(img_edges, cmap='gray')\n",
    "plt.title('Edges from Original Image')\n",
    "plt.axis('off')\n",
    "\n",
    "plt.subplot(2, 2, 4)\n",
    "plt.imshow(img_edges, cmap='gray')\n",
    "plt.title('Edges from Gray Image')\n",
    "plt.axis('off')"
   ]
  },
  {
   "cell_type": "markdown",
   "metadata": {},
   "source": [
    "## get Contours from Edges and draw it"
   ]
  },
  {
   "cell_type": "code",
   "execution_count": null,
   "metadata": {},
   "outputs": [],
   "source": [
    "def edges_to_contours(edges, color=(255, 255, 255), thickness=3):\n",
    "    contours, _ = cv2.findContours(\n",
    "        edges, cv2.RETR_EXTERNAL, cv2.CHAIN_APPROX_SIMPLE)\n",
    "\n",
    "    edges_contours = cv2.drawContours(\n",
    "        np.zeros_like(edges), contours, -1, color, thickness)\n",
    "\n",
    "    return edges_contours"
   ]
  },
  {
   "cell_type": "code",
   "execution_count": null,
   "metadata": {},
   "outputs": [],
   "source": [
    "img_edges_contours = edges_to_contours(img_edges)\n",
    "\n",
    "plt.figure(figsize=(10, 4))\n",
    "\n",
    "plt.subplot(1, 2, 1)\n",
    "plt.imshow(img_edges, cmap='gray')\n",
    "plt.title('Edges from Original Image')\n",
    "plt.axis('off')\n",
    "\n",
    "plt.subplot(1, 2, 2)\n",
    "plt.imshow(img_edges_contours, cmap='gray')\n",
    "plt.title('Contours from Edges')\n",
    "plt.axis('off')"
   ]
  }
 ],
 "metadata": {
  "kernelspec": {
   "display_name": "Python 3",
   "language": "python",
   "name": "python3"
  },
  "language_info": {
   "codemirror_mode": {
    "name": "ipython",
    "version": 3
   },
   "file_extension": ".py",
   "mimetype": "text/x-python",
   "name": "python",
   "nbconvert_exporter": "python",
   "pygments_lexer": "ipython3",
   "version": "3.12.2"
  }
 },
 "nbformat": 4,
 "nbformat_minor": 2
}
