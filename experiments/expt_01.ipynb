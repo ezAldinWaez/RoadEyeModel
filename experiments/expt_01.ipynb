{
 "cells": [
  {
   "cell_type": "markdown",
   "metadata": {},
   "source": [
    "# Enhance Images Using Edges Detection and Contoures"
   ]
  },
  {
   "cell_type": "markdown",
   "metadata": {},
   "source": [
    "## Introduction"
   ]
  },
  {
   "cell_type": "markdown",
   "metadata": {},
   "source": [
    "During our project we often use grayscale image instead of RGBscale due to grayscale images are simpler to process and require less memory and computational resources as we also don't care about the RGB colors in most of our tasks during the project.\n",
    "\n",
    "Enhancing images with image processing techniques for making object detection approach require identifing the objects features in the image, basically it's done by showing up the edges of the object and take the contours of these edges (for edge detection method we use Canny edge detection algorithm and find EXTERNAL contours for the edges).\n",
    "\n",
    "Finding the Contours will provide a way to identify the objects within an image. By tracing the contours around objects, image processing algorithms can detect and recognize shapes of the objects and make tracking for them.\n",
    "\n",
    "Using Canny edge detection algorithm in conjunction with contours will help to identify and outline the boundaries of objects within an image accurately, making the first step with image processing to detect the objects in the image."
   ]
  },
  {
   "cell_type": "markdown",
   "metadata": {},
   "source": [
    "## Background"
   ]
  },
  {
   "cell_type": "markdown",
   "metadata": {},
   "source": [
    "The idea of using Canny edge detection is to identify the edges of objects in an image, it detects sudden changes in pixel intensity (such as sharp transitions in color or grayscale) and marks them as edges[we are not going to delve deeply with the explanation of the algorithm right now until we deal with the details of algorithm as in expt_??].\n",
    "\n",
    "After applying Canny edge detection, we can identify and extract EXTERNAL contours from the edge-detected image, where Contours will provide a set of points that define the boundaries of the objects or a part of an object in the image."
   ]
  },
  {
   "cell_type": "markdown",
   "metadata": {},
   "source": [
    "## Implementation"
   ]
  },
  {
   "cell_type": "code",
   "execution_count": null,
   "metadata": {},
   "outputs": [],
   "source": [
    "import numpy as np\n",
    "import matplotlib.pyplot as plt\n",
    "import cv2 as cv\n",
    "\n",
    "from expt_utils import *"
   ]
  },
  {
   "cell_type": "code",
   "execution_count": null,
   "metadata": {},
   "outputs": [],
   "source": [
    "OUT_DIR = make_out_dir('01')"
   ]
  },
  {
   "cell_type": "markdown",
   "metadata": {},
   "source": [
    "### Convert Image to Gray"
   ]
  },
  {
   "cell_type": "code",
   "execution_count": null,
   "metadata": {},
   "outputs": [],
   "source": [
    "img = cv.imread(\"../dataset/frames/train/00012/00012_1560.jpg\")\n",
    "img_gray = cv.cvtColor(img, cv.COLOR_BGR2GRAY)\n",
    "\n",
    "plt.figure(figsize=(10, 4), tight_layout=True)\n",
    "\n",
    "plt.subplot(1, 2, 1), plt.axis('off'), plt.title('BGR Image')\n",
    "plt.imshow(img)\n",
    "\n",
    "plt.subplot(1, 2, 2), plt.axis('off'), plt.title('Gray Image')\n",
    "plt.imshow(img_gray, cmap='gray')\n",
    "\n",
    "plt.savefig(f\"{OUT_DIR}/1-img_to_gray.png\", format='png', bbox_inches='tight')"
   ]
  },
  {
   "cell_type": "markdown",
   "metadata": {},
   "source": [
    "Notice that cars are clear in both BGR and Grayscale images, We can take advantage of that later."
   ]
  },
  {
   "cell_type": "markdown",
   "metadata": {},
   "source": [
    "### Edges Detection (Canny Algorithm)"
   ]
  },
  {
   "cell_type": "code",
   "execution_count": null,
   "metadata": {},
   "outputs": [],
   "source": [
    "def img_to_canny_edges(img, blur_kernel=(5, 5)):\n",
    "    img_med = np.median(img)\n",
    "    img_med_lower = int(max(0, 0.7 * img_med))\n",
    "    img_med_upper = int(min(255, 1.3 * img_med))\n",
    "    img_blur = cv.blur(img, blur_kernel)\n",
    "    img_edges = cv.Canny(img_blur, img_med_lower, img_med_upper)\n",
    "    return img_edges"
   ]
  },
  {
   "cell_type": "code",
   "execution_count": null,
   "metadata": {},
   "outputs": [],
   "source": [
    "img_edges = img_to_canny_edges(img)\n",
    "img_gray_edges = img_to_canny_edges(img_gray)\n",
    "\n",
    "plt.figure(figsize=(10, 4), tight_layout=True)\n",
    "\n",
    "plt.subplot(1, 2, 1), plt.axis('off'), plt.title('Canny Edges from BGR Image')\n",
    "plt.imshow(img_edges, cmap='gray')\n",
    "\n",
    "plt.subplot(1, 2, 2), plt.axis('off'), plt.title('Canny Edges from Gray Image')\n",
    "plt.imshow(img_gray_edges, cmap='gray')\n",
    "\n",
    "plt.savefig(f\"{OUT_DIR}/2-canny_edge_detection.png\",\n",
    "            format='png', bbox_inches='tight')"
   ]
  },
  {
   "cell_type": "markdown",
   "metadata": {},
   "source": [
    "Notice that the edges generated from BGR image are better. From now on we will use Edges from BGR image."
   ]
  },
  {
   "cell_type": "markdown",
   "metadata": {},
   "source": [
    "### Find Contours from Edges"
   ]
  },
  {
   "cell_type": "code",
   "execution_count": null,
   "metadata": {},
   "outputs": [],
   "source": [
    "def edges_to_contours(edges, color=(255, 0, 0), thickness=2):\n",
    "    contours, _ = cv.findContours(\n",
    "        edges, cv.RETR_EXTERNAL, cv.CHAIN_APPROX_SIMPLE)\n",
    "    img_contours = np.zeros((*edges.shape[:2], 3))\n",
    "    cv.drawContours(img_contours, contours, -1, color, thickness)\n",
    "    return img_contours"
   ]
  },
  {
   "cell_type": "code",
   "execution_count": null,
   "metadata": {},
   "outputs": [],
   "source": [
    "img_edges_contours = edges_to_contours(img_edges)\n",
    "\n",
    "plt.figure(figsize=(10, 4), tight_layout=True)\n",
    "\n",
    "plt.subplot(1, 2, 1), plt.axis('off'), plt.title('Canny Edges')\n",
    "plt.imshow(img_edges, cmap='gray')\n",
    "\n",
    "plt.subplot(1, 2, 2), plt.axis('off'), plt.title('Contours from Canny Edges')\n",
    "plt.imshow(img_edges_contours)\n",
    "\n",
    "plt.savefig(f\"{OUT_DIR}/3-contours_from_canny_edges.png\",\n",
    "            format='png', bbox_inches='tight')"
   ]
  },
  {
   "cell_type": "markdown",
   "metadata": {},
   "source": [
    "There is no a big difference between Canny Edges and Contours. However, we can use modified version of drawing contours (e.g. select a subset of them)."
   ]
  },
  {
   "cell_type": "markdown",
   "metadata": {},
   "source": [
    "## Conclusion"
   ]
  },
  {
   "cell_type": "markdown",
   "metadata": {},
   "source": [
    "...\n",
    "\n",
    "...\n",
    "\n",
    "..."
   ]
  }
 ],
 "metadata": {
  "kernelspec": {
   "display_name": "Python 3",
   "language": "python",
   "name": "python3"
  },
  "language_info": {
   "codemirror_mode": {
    "name": "ipython",
    "version": 3
   },
   "file_extension": ".py",
   "mimetype": "text/x-python",
   "name": "python",
   "nbconvert_exporter": "python",
   "pygments_lexer": "ipython3",
   "version": "3.11.8"
  }
 },
 "nbformat": 4,
 "nbformat_minor": 2
}
