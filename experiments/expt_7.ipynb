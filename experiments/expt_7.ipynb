{
 "cells": [
  {
   "cell_type": "markdown",
   "metadata": {},
   "source": [
    "# Feature Matching and Object Detection"
   ]
  },
  {
   "cell_type": "code",
   "execution_count": null,
   "metadata": {},
   "outputs": [],
   "source": [
    "from expt_utils import *\n",
    "from sklearn.metrics import confusion_matrix"
   ]
  },
  {
   "cell_type": "code",
   "execution_count": null,
   "metadata": {},
   "outputs": [],
   "source": [
    "img = plt.imread(f'{DS_DIR}/val/images/00049_3880.jpg')\n",
    "img_gray = cv.cvtColor(img, cv.COLOR_RGB2GRAY)\n",
    "img_edges = img_to_mexican_hat_edges(img_gray).astype(np.uint8)\n",
    "gnd_trth_gray = cv.imread(f'{IMG_DIR}/ground_truth/00049_3880.jpg', cv.IMREAD_GRAYSCALE)\n"
   ]
  },
  {
   "cell_type": "markdown",
   "metadata": {},
   "source": [
    "## SIFT Feature Matching"
   ]
  },
  {
   "cell_type": "code",
   "execution_count": null,
   "metadata": {},
   "outputs": [],
   "source": [
    "sift = cv.SIFT_create()\n",
    "\n",
    "keypoints_gray, descriptors_gray = sift.detectAndCompute(gnd_trth_gray, None)\n",
    "keypoints_edge, descriptors_edge = sift.detectAndCompute(img_edges, None)\n",
    "\n",
    "# object matching\n",
    "bf = cv.BFMatcher()\n",
    "\n",
    "matches = bf.knnMatch(descriptors_gray, descriptors_edge, k=2)\n",
    "\n",
    "good_matches = []\n",
    "total_correct = 0\n",
    "for m, n in matches:\n",
    "    if m.distance < 0.9 * n.distance: # if m distance (indicate to descripter to the grd_img) is less than 0.5 * n distance (indicate to descripter of the estimate_img) then it may belong to the object else it belong to the background\n",
    "        good_matches.append(m)\n",
    "        total_correct += 1\n",
    "\n",
    "img_matches = cv.drawMatches(gnd_trth_gray, keypoints_gray, img_edges, keypoints_edge, good_matches, None, flags=cv.DrawMatchesFlags_NOT_DRAW_SINGLE_POINTS)\n",
    "\n",
    "ground_truth_keypoints = total_correct\n",
    "predicted_keypoints = len(keypoints_edge)\n",
    "\n",
    "ground_truth_labels = np.zeros(len(matches))\n",
    "predicted_labels = np.zeros(len(matches))\n",
    "for i, match in enumerate(matches):\n",
    "    if i in [m.queryIdx for m in good_matches]:  # check if the index is in good_matches\n",
    "        predicted_labels[i] = 1\n",
    "    if i < len(good_matches):\n",
    "        ground_truth_labels[i] = 1\n",
    "\n",
    "conf_matrix = confusion_matrix(ground_truth_labels, predicted_labels)\n",
    "\n",
    "print(f\"accuracy: {ground_truth_keypoints / predicted_keypoints :.2%}\")\n",
    "print(\"Confusion Matrix:\")\n",
    "print(conf_matrix)\n",
    "print(\"All Truth Keypoints\", len(keypoints_gray))\n",
    "print(\"All Estimated Keypoints\", len(keypoints_edge))\n",
    "\n",
    "plt.figure(figsize=(10,4), tight_layout=True)\n",
    "plt.axis('off'), plt.title('SIFT Feature Matching')\n",
    "plt.imshow(img_matches)\n",
    "plt.savefig(f'{OUT_DIR}/07-01-sift_feature_matching')"
   ]
  },
  {
   "cell_type": "markdown",
   "metadata": {},
   "source": [
    "## ORB Feature Matching"
   ]
  },
  {
   "cell_type": "code",
   "execution_count": null,
   "metadata": {},
   "outputs": [],
   "source": [
    "orb = cv.ORB_create()\n",
    "\n",
    "keypoints_gray, descriptors_gray = orb.detectAndCompute(gnd_trth_gray, None)\n",
    "keypoints_edge, descriptors_edge = orb.detectAndCompute(img_edges, None)\n",
    "\n",
    "# feature matching\n",
    "bf = cv.BFMatcher()\n",
    "\n",
    "matches = bf.knnMatch(descriptors_gray, descriptors_edge, k=2)\n",
    "\n",
    "good_matches = []\n",
    "total_correct = 0\n",
    "for m, n in matches:\n",
    "    if m.distance < 0.9 * n.distance:\n",
    "        good_matches.append(m)\n",
    "        total_correct += 1\n",
    "\n",
    "img_matches = cv.drawMatches(gnd_trth_gray, keypoints_gray, img_edges, keypoints_edge, good_matches, None, flags=cv.DrawMatchesFlags_NOT_DRAW_SINGLE_POINTS)\n",
    "\n",
    "ground_truth_labels = np.zeros(len(matches))\n",
    "predicted_labels = np.zeros(len(matches))\n",
    "for i, match in enumerate(matches):\n",
    "    if i in [m.queryIdx for m in good_matches]:  # check if the index is in good_matches\n",
    "        predicted_labels[i] = 1\n",
    "    if i < len(good_matches):\n",
    "        ground_truth_labels[i] = 1\n",
    "\n",
    "conf_matrix = confusion_matrix(ground_truth_labels, predicted_labels)\n",
    "\n",
    "print(f\"accuracy: {ground_truth_keypoints / predicted_keypoints :.2%}\")\n",
    "print(\"Confusion Matrix:\")\n",
    "print(conf_matrix)\n",
    "print(\"All Truth Keypoints\", len(keypoints_gray))\n",
    "print(\"All Estimated Keypoints\", len(keypoints_edge))\n",
    "\n",
    "\n",
    "plt.figure(figsize=(10, 4), tight_layout=True)\n",
    "plt.axis('off'), plt.title('ORB Feature Matching')\n",
    "plt.imshow(img_matches)\n",
    "plt.savefig(f'{OUT_DIR}/07-02-orb_feature_matching')"
   ]
  }
 ],
 "metadata": {
  "kernelspec": {
   "display_name": "Python 3",
   "language": "python",
   "name": "python3"
  },
  "language_info": {
   "codemirror_mode": {
    "name": "ipython",
    "version": 3
   },
   "file_extension": ".py",
   "mimetype": "text/x-python",
   "name": "python",
   "nbconvert_exporter": "python",
   "pygments_lexer": "ipython3",
   "version": "3.12.1"
  }
 },
 "nbformat": 4,
 "nbformat_minor": 2
}
