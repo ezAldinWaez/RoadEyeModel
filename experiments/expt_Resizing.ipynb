{
 "cells": [
  {
   "cell_type": "code",
   "execution_count": 13,
   "metadata": {},
   "outputs": [],
   "source": [
    "import numpy as np\n",
    "import pandas as pd\n",
    "import cv2 as cv\n",
    "import os"
   ]
  },
  {
   "cell_type": "code",
   "execution_count": 16,
   "metadata": {},
   "outputs": [],
   "source": [
    "directory = \"./img/resizing/\"\n",
    "scalingFacture = [0.1, 0.2, 0.3, 0.4, 0.5, 0.6, 0.7, 0.8, 0.9, 1.0, 1.1, 1.2]\n",
    "results = []\n",
    "\n",
    "for filename in os.listdir(directory):\n",
    "    if filename.endswith('.jpg'):\n",
    "        \n",
    "        img = cv.imread(os.path.join(directory, filename))\n",
    "        org_img = cv.imread(os.path.join(\"./img/resizing/org/\", filename))\n",
    "        _, binary_img = cv.threshold(img, 10, 255, cv.THRESH_BINARY)\n",
    "\n",
    "        corrs = []\n",
    "        for scale in scalingFacture:\n",
    "            # resize the image by shape of image multi scale\n",
    "            org_img_scaled = cv.resize(org_img, None, fx=scale, fy=scale)\n",
    "            binary_img_scaled = cv.resize(binary_img, None, fx=scale, fy=scale)\n",
    "\n",
    "            # calculate the correlation between original image and itself as a binary image\n",
    "            corr = np.abs(np.corrcoef(org_img_scaled.flatten(), binary_img_scaled.flatten())[0, 1])\n",
    "            corrs.append(corr)\n",
    "\n",
    "        # append as a list of elements, not a list within a list\n",
    "        results.append([filename] + corrs)\n",
    "\n",
    "# create a DataFrame from the results list\n",
    "df = pd.DataFrame(results, columns=['Filename'] + [str(scale) for scale in scalingFacture])\n",
    "\n",
    "# save the DataFrame as a CSV file\n",
    "df.to_csv('correlation_results.csv', index=False)"
   ]
  }
 ],
 "metadata": {
  "kernelspec": {
   "display_name": "Python 3",
   "language": "python",
   "name": "python3"
  },
  "language_info": {
   "codemirror_mode": {
    "name": "ipython",
    "version": 3
   },
   "file_extension": ".py",
   "mimetype": "text/x-python",
   "name": "python",
   "nbconvert_exporter": "python",
   "pygments_lexer": "ipython3",
   "version": "3.12.1"
  }
 },
 "nbformat": 4,
 "nbformat_minor": 2
}
