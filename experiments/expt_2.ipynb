{
 "cells": [
  {
   "cell_type": "markdown",
   "metadata": {},
   "source": [
    "# Thresholding on Image"
   ]
  },
  {
   "cell_type": "markdown",
   "metadata": {},
   "source": [
    "## Introduction"
   ]
  },
  {
   "cell_type": "markdown",
   "metadata": {},
   "source": [
    "Thresholding is an image processing technique used to separate features of interest from the background in an image. it involves setting a threshold value, which acts as a boundary to determine whether a pixel's intensity or color value is considered part of the object or background. we aim to use Thresholds to enhance the quality of images before performing object detection which prepares images for better object detection and classification performance.\n",
    "\n",
    "Once objects are segmented using thresholding, various algorithms can be applied to detect and recognize objects based on their shape, size, texture, or other visual features.\n",
    "\n",
    "There are many types of Thresholding in the context of Image Processing, where we will use the most famous types (THRESH_BINARY, THRESH_OTSU, ADAPTIVE_THRESH where the last type can apply with two ways: thresh_arithmetic_mean and thresh_gaussian_mean)"
   ]
  },
  {
   "cell_type": "markdown",
   "metadata": {},
   "source": [
    "### 1. THRESH_BINARY\n"
   ]
  },
  {
   "cell_type": "markdown",
   "metadata": {},
   "source": [
    "It is a manual thresholding technique where the threshold value is specified by the user, then it works by setting all pixel values below a specified threshold to 0 and all pixel values equal to or above the threshold to a maximum value (which also specified by the user (usually 255)).\n",
    "\n",
    "$$\n",
    "dst(x, y) = \\begin{cases} maxValue, & \\text{if } src(x, y) \\geq threshold \\\\ 0, & \\text{if } src(x, y) < threshold \\end{cases}\n",
    "$$\n",
    "\n",
    "This type of Thresholding is commonly used when there is a clear distinction between foreground and background intensities in the image.\n"
   ]
  },
  {
   "cell_type": "markdown",
   "metadata": {},
   "source": [
    "### 2. THRESH_OTSU\n"
   ]
  },
  {
   "cell_type": "markdown",
   "metadata": {},
   "source": [
    "It is an automatic thresholding technique that selects the optimal threshold value based on the image histogram, Otsu's method assumes that the image contains two classes of pixels: foreground and background. it iteratively calculates the threshold value that minimizes the intra-class variance within each class and maximizes the inter-class variance between the classes.\n",
    "\n",
    "Mathematically, THRESH_OTSU calculates the threshold value using a technique called the \"maximum between-class variance\" method:\n",
    "\n",
    "$$\n",
    "\\sigma_B^2(T) = \\omega_0(T) \\cdot \\omega_1(T) \\cdot (\\mu_0(T) - \\mu_1(T))^2\n",
    "$$\n",
    "\n",
    "Where:\n",
    "\n",
    "- $P(i):$ is the normalized histogram of the image, representing the probability of intensity level $i$ occurring in the image.\n",
    "- $L:$ is the total number of intensity levels in the image.\n",
    "- $\\omega_0(T) = \\sum_{i=0}^{T} P(i):$ is the probability of the background class up to threshold $T$.\n",
    "- $\\omega_1(T) = \\sum_{i=T+1}^{L-1} P(i):$ is the probability of the foreground class starting from threshold $T+1$.\n",
    "- $\\mu_0(T) = \\sum_{i=0}^{T} \\frac{i \\cdot P(i)}{\\omega_0(T)}:$ is the mean intensity of the background class up to threshold $T$.\n",
    "- $\\mu_1(T) = \\sum_{i=T+1}^{L-1} \\frac{i \\cdot P(i)}{\\omega_1(T)}:$ is the mean intensity of the foreground class starting from threshold $T+1$.\n",
    "\n",
    "This type of Thresholding is commonly used when to determine automatically the optimal threshold for image segmentation based on the distribution of pixel intensities in the image.\n"
   ]
  },
  {
   "cell_type": "markdown",
   "metadata": {},
   "source": [
    "### 3. ADAPTIVE_THRESH"
   ]
  },
  {
   "cell_type": "markdown",
   "metadata": {},
   "source": [
    "Adaptive thresholding techniques such as THRESH_MEAN_C and THRESH_GAUSSIAN_C dynamically adjust the threshold value for each pixel based on the local neighborhood information.\n"
   ]
  },
  {
   "cell_type": "markdown",
   "metadata": {},
   "source": [
    "#### 3-1. THRESH_MEAN_C (Arithmetic Mean)\n"
   ]
  },
  {
   "cell_type": "markdown",
   "metadata": {},
   "source": [
    "computes the threshold for each pixel based on the arithmetic mean intensity of the neighboring pixels within a specified window around it.\n",
    "\n",
    "Mathematically, the threshold value for pixel (x, y) is determined as:\n",
    "\n",
    "$$\n",
    "T(x, y) = \\frac{1}{N} \\sum_{(x', y') \\in \\text{neighborhood of } (x, y)} I(x', y')\n",
    "$$\n",
    "\n",
    "Where:\n",
    "\n",
    "- $N:$ is the total number of pixels in the neighborhood,\n",
    "- $I(x', y'):$ is the intensity of pixel \\( (x', y') \\) in the neighborhood.\n"
   ]
  },
  {
   "cell_type": "markdown",
   "metadata": {},
   "source": [
    "#### 3-2. THRESH_GAUSSIAN_C (Gaussian Mean)\n"
   ]
  },
  {
   "cell_type": "markdown",
   "metadata": {},
   "source": [
    "computes the threshold for each pixel based on the weighted average (convolution) of the intensities of neighboring pixels within a specified window around it, using a Gaussian kernel.\n",
    "\n",
    "Mathematically, the threshold value for pixel (x, y) is determined as:\n",
    "\n",
    "$$\n",
    "T(x, y) = \\sum_{(x', y') \\in \\text{neighborhood of } (x, y)} I(x', y') \\cdot G(x-x', y-y')\n",
    "$$\n",
    "\n",
    "Where:\n",
    "\n",
    "- $I(x', y'):$ Represents the intensity or value of the pixel at position (x', y') in the neighborhood.\n",
    "- $G(x-x', y-y'):$ Represents the weight or contribution of the pixel at position (x', y') in the neighborhood to the threshold value at pixel (x, y) (This weight is often determined by a Gaussian kernel, where the closer the pixel is to the center (x, y), the higher the weight it receives. This helps in giving more importance to the central pixels in the neighborhood).\n",
    "\n",
    "This type of Thresholding (ADAPTIVE_THRESH) is effective for segmenting images with varying lighting conditions and local image characteristics\n"
   ]
  },
  {
   "cell_type": "markdown",
   "metadata": {},
   "source": [
    "## Implementation"
   ]
  },
  {
   "cell_type": "code",
   "execution_count": null,
   "metadata": {},
   "outputs": [],
   "source": [
    "from expt_utils import *"
   ]
  },
  {
   "cell_type": "code",
   "execution_count": null,
   "metadata": {},
   "outputs": [],
   "source": [
    "def thresh_bin(img, thresh=None):\n",
    "    if thresh is None:\n",
    "        thresh = np.mean(img)\n",
    "    img_gray = cv.cvtColor(img, cv.COLOR_RGB2GRAY) if len(\n",
    "        img.shape) > 2 else img\n",
    "    img_bin = cv.threshold(img_gray, thresh, 255, cv.THRESH_BINARY)[1]\n",
    "    return img_bin.astype('uint8')\n",
    "\n",
    "\n",
    "def thresh_bin_inv(img, thresh=None):\n",
    "    if thresh is None:\n",
    "        thresh = np.mean(img)\n",
    "    img_gray = cv.cvtColor(img, cv.COLOR_RGB2GRAY) if len(\n",
    "        img.shape) > 2 else img\n",
    "    img_bin = cv.threshold(img_gray, thresh, 255, cv.THRESH_BINARY_INV)[1]\n",
    "    return img_bin.astype('uint8')\n",
    "\n",
    "\n",
    "def thresh_otsu(img):\n",
    "    img_gray = cv.cvtColor(img, cv.COLOR_RGB2GRAY) if len(\n",
    "        img.shape) > 2 else img\n",
    "    img_bin = cv.threshold(\n",
    "        img_gray, 0, 255, cv.THRESH_BINARY + cv.THRESH_OTSU)[1]\n",
    "    return img_bin.astype('uint8')\n",
    "\n",
    "\n",
    "def thresh_otsu_inv(img):\n",
    "    img_gray = cv.cvtColor(img, cv.COLOR_RGB2GRAY) if len(\n",
    "        img.shape) > 2 else img\n",
    "    img_bin = cv.threshold(\n",
    "        img_gray, 0, 255, cv.THRESH_BINARY_INV + cv.THRESH_OTSU)[1]\n",
    "    return img_bin.astype('uint8')\n",
    "\n",
    "\n",
    "def thresh_adapt_mean(img):\n",
    "    img_gray = cv.cvtColor(img, cv.COLOR_RGB2GRAY) if len(\n",
    "        img.shape) > 2 else img\n",
    "    img_bin = cv.adaptiveThreshold(\n",
    "        img_gray, 255, cv.ADAPTIVE_THRESH_MEAN_C, cv.THRESH_BINARY, 11, 2)\n",
    "    return img_bin.astype('uint8')\n",
    "\n",
    "\n",
    "def thresh_adapt_gaussian(img):\n",
    "    img_gray = cv.cvtColor(img, cv.COLOR_RGB2GRAY) if len(\n",
    "        img.shape) > 2 else img\n",
    "    img_bin = cv.adaptiveThreshold(\n",
    "        img_gray, 255, cv.ADAPTIVE_THRESH_GAUSSIAN_C, cv.THRESH_BINARY, 11, 2)\n",
    "    return img_bin.astype('uint8')"
   ]
  },
  {
   "cell_type": "code",
   "execution_count": null,
   "metadata": {},
   "outputs": [],
   "source": [
    "img = plt.imread(f'{DS_DIR}/frames/train/00049/00049_3880.jpg')\n",
    "img_gray = cv.cvtColor(img, cv.COLOR_RGB2GRAY)\n",
    "\n",
    "\n",
    "def _render(thresh):\n",
    "    img_bin_inv = thresh_bin_inv(img_gray, thresh)\n",
    "    cv.imshow('Binary Image', img_bin_inv)\n",
    "\n",
    "\n",
    "_render(thresh=127)\n",
    "cv.createTrackbar('Threshold', 'Binary Image', 127, 255, _render)\n",
    "\n",
    "destroy_when_esc()"
   ]
  },
  {
   "cell_type": "code",
   "execution_count": null,
   "metadata": {},
   "outputs": [],
   "source": [
    "img_bin_inv = thresh_bin_inv(img_gray)\n",
    "img_bin_otsu_inv = thresh_otsu_inv(img_gray)\n",
    "img_bin_adapt_mean = thresh_adapt_mean(img_gray)\n",
    "img_bin_adapt_gaussian = thresh_adapt_gaussian(img_gray)\n",
    "\n",
    "plt.figure(figsize=(10, 10), tight_layout=True)\n",
    "\n",
    "plt.subplot(3, 2, 1), plt.axis('off'), plt.title('Image')\n",
    "plt.imshow(img)\n",
    "\n",
    "plt.subplot(3, 2, 2), plt.axis('off'), plt.title('Gray Image')\n",
    "plt.imshow(img_gray, cmap='gray')\n",
    "\n",
    "plt.subplot(3, 2, 3), plt.axis('off'), plt.title('Binary Threshold (inv) (thresh=127)')\n",
    "plt.imshow(img_bin_inv, cmap='gray')\n",
    "\n",
    "plt.subplot(3, 2, 4), plt.axis('off'), plt.title('Otsu Threshold (inv)')\n",
    "plt.imshow(img_bin_otsu_inv, cmap='gray')\n",
    "\n",
    "plt.subplot(3, 2, 5), plt.axis('off'), plt.title('Adaptive Threshold (mean)')\n",
    "plt.imshow(img_bin_adapt_mean, cmap='gray')\n",
    "\n",
    "plt.subplot(3, 2, 6), plt.axis('off'), plt.title('Adaptive Threshold (gussian)')\n",
    "plt.imshow(img_bin_adapt_gaussian, cmap='gray')\n",
    "\n",
    "plt.savefig(f'{OUT_DIR}/02-01-threshold_types')"
   ]
  },
  {
   "cell_type": "markdown",
   "metadata": {},
   "source": [
    "### Compare and Evaluate the filters"
   ]
  },
  {
   "cell_type": "code",
   "execution_count": 22,
   "metadata": {},
   "outputs": [
    {
     "data": {
      "text/html": [
       "<div>\n",
       "<style scoped>\n",
       "    .dataframe tbody tr th:only-of-type {\n",
       "        vertical-align: middle;\n",
       "    }\n",
       "\n",
       "    .dataframe tbody tr th {\n",
       "        vertical-align: top;\n",
       "    }\n",
       "\n",
       "    .dataframe thead th {\n",
       "        text-align: right;\n",
       "    }\n",
       "</style>\n",
       "<table border=\"1\" class=\"dataframe\">\n",
       "  <thead>\n",
       "    <tr style=\"text-align: right;\">\n",
       "      <th></th>\n",
       "      <th>Correlation Coeficient</th>\n",
       "      <th>Eculodian Distance</th>\n",
       "      <th>Cosine Similarity</th>\n",
       "    </tr>\n",
       "  </thead>\n",
       "  <tbody>\n",
       "    <tr>\n",
       "      <th>Binary Thresholding Inverse (127)</th>\n",
       "      <td>-4.589%</td>\n",
       "      <td>434.599</td>\n",
       "      <td>0.000011</td>\n",
       "    </tr>\n",
       "    <tr>\n",
       "      <th>Otsu Thresholding Inverse</th>\n",
       "      <td>-4.367%</td>\n",
       "      <td>410.659</td>\n",
       "      <td>0.000012</td>\n",
       "    </tr>\n",
       "    <tr>\n",
       "      <th>Adaptive Thresholding (mean)</th>\n",
       "      <td>8.350%</td>\n",
       "      <td>340.26</td>\n",
       "      <td>0.000013</td>\n",
       "    </tr>\n",
       "    <tr>\n",
       "      <th>Adaptive Thresholding (gaussian)</th>\n",
       "      <td>7.842%</td>\n",
       "      <td>311.459</td>\n",
       "      <td>0.000013</td>\n",
       "    </tr>\n",
       "  </tbody>\n",
       "</table>\n",
       "</div>"
      ],
      "text/plain": [
       "                                  Correlation Coeficient Eculodian Distance  \\\n",
       "Binary Thresholding Inverse (127)                -4.589%            434.599   \n",
       "Otsu Thresholding Inverse                        -4.367%            410.659   \n",
       "Adaptive Thresholding (mean)                      8.350%             340.26   \n",
       "Adaptive Thresholding (gaussian)                  7.842%            311.459   \n",
       "\n",
       "                                  Cosine Similarity  \n",
       "Binary Thresholding Inverse (127)          0.000011  \n",
       "Otsu Thresholding Inverse                  0.000012  \n",
       "Adaptive Thresholding (mean)               0.000013  \n",
       "Adaptive Thresholding (gaussian)           0.000013  "
      ]
     },
     "execution_count": 22,
     "metadata": {},
     "output_type": "execute_result"
    }
   ],
   "source": [
    "img_ground_truth = thresh_bin_inv(plt.imread(f'{IMG_DIR}/ground_truth/00049_3880.jpg'), 1)\n",
    "\n",
    "pd.DataFrame([\n",
    "    evaluate(img_bin_inv, img_ground_truth),\n",
    "    evaluate(img_bin_otsu_inv, img_ground_truth),\n",
    "    evaluate(img_bin_adapt_mean, img_ground_truth),\n",
    "    evaluate(img_bin_adapt_gaussian, img_ground_truth),\n",
    "],\n",
    "    index=[\n",
    "        'Binary Thresholding Inverse (127)',\n",
    "        'Otsu Thresholding Inverse',\n",
    "        'Adaptive Thresholding (mean)',\n",
    "        'Adaptive Thresholding (gaussian)',\n",
    "])"
   ]
  },
  {
   "cell_type": "markdown",
   "metadata": {},
   "source": [
    "## Conclusion"
   ]
  },
  {
   "cell_type": "markdown",
   "metadata": {},
   "source": [
    "We determine visually (what is the best clarity for an object) that adaptive threshold (GAUSSIAN_C) is best type of other thresholding types that used (thresh_binary, thresh_otsu)"
   ]
  }
 ],
 "metadata": {
  "kernelspec": {
   "display_name": "Python 3",
   "language": "python",
   "name": "python3"
  },
  "language_info": {
   "codemirror_mode": {
    "name": "ipython",
    "version": 3
   },
   "file_extension": ".py",
   "mimetype": "text/x-python",
   "name": "python",
   "nbconvert_exporter": "python",
   "pygments_lexer": "ipython3",
   "version": "3.11.8"
  }
 },
 "nbformat": 4,
 "nbformat_minor": 2
}
