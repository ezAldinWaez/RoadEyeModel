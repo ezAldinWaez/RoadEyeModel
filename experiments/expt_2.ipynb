{
 "cells": [
  {
   "cell_type": "markdown",
   "metadata": {},
   "source": [
    "# Resizing and Rescaling"
   ]
  },
  {
   "cell_type": "code",
   "execution_count": null,
   "metadata": {},
   "outputs": [],
   "source": [
    "from expt_utils import *"
   ]
  },
  {
   "cell_type": "code",
   "execution_count": null,
   "metadata": {},
   "outputs": [],
   "source": [
    "scalingFacture = [0.1, 0.2, 0.3, 0.4, 0.5, 0.6, 0.7, 0.8, 0.9, 1.0, 1.1, 1.2]\n",
    "\n",
    "results = []\n",
    "for filename in os.listdir(f\"{IMG_DIR}/resizing/\"):\n",
    "    if filename.endswith('.jpg'):\n",
    "        img = cv.imread(os.path.join(f\"{IMG_DIR}/resizing/\", filename))\n",
    "        gnd_trth = cv.imread(os.path.join(f\"{IMG_DIR}/ground_truth/\", filename))\n",
    "        gnd_trrh_bin = cv.threshold(gnd_trth, 10, 255, cv.THRESH_BINARY)[1]\n",
    "\n",
    "        corrs = []\n",
    "        for scale in scalingFacture:\n",
    "            # resize the image by shape of image multi scale\n",
    "            img_scaled = cv.resize(img, None, fx=scale, fy=scale)\n",
    "            gnd_trth_bin_scaled = cv.resize(gnd_trrh_bin, None, fx=scale, fy=scale)\n",
    "\n",
    "            # calculate the correlation between original image and itself as a binary image\n",
    "            corr = np.abs(np.corrcoef(img_scaled.flatten(), gnd_trth_bin_scaled.flatten())[0, 1])\n",
    "            corrs.append(corr)\n",
    "\n",
    "        # append as a list of elements, not a list within a list\n",
    "        results.append([filename] + corrs)\n",
    "\n",
    "# create a DataFrame from the results list\n",
    "pd.DataFrame(results, columns=['Filename'] + [str(scale) for scale in scalingFacture])"
   ]
  }
 ],
 "metadata": {
  "kernelspec": {
   "display_name": "Python 3",
   "language": "python",
   "name": "python3"
  },
  "language_info": {
   "codemirror_mode": {
    "name": "ipython",
    "version": 3
   },
   "file_extension": ".py",
   "mimetype": "text/x-python",
   "name": "python",
   "nbconvert_exporter": "python",
   "pygments_lexer": "ipython3",
   "version": "3.11.4"
  }
 },
 "nbformat": 4,
 "nbformat_minor": 2
}
