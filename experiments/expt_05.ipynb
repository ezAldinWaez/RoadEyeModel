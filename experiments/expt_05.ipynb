{
 "cells": [
  {
   "cell_type": "markdown",
   "metadata": {},
   "source": [
    "# Experiment 05"
   ]
  },
  {
   "cell_type": "markdown",
   "metadata": {},
   "source": [
    "## Introduction"
   ]
  },
  {
   "cell_type": "markdown",
   "metadata": {},
   "source": [
    "...\n",
    "\n",
    "...\n",
    "\n",
    "..."
   ]
  },
  {
   "cell_type": "markdown",
   "metadata": {},
   "source": [
    "## Background"
   ]
  },
  {
   "cell_type": "markdown",
   "metadata": {},
   "source": [
    "...\n",
    "\n",
    "...\n",
    "\n",
    "..."
   ]
  },
  {
   "cell_type": "markdown",
   "metadata": {},
   "source": [
    "## Implementation"
   ]
  },
  {
   "cell_type": "code",
   "execution_count": null,
   "metadata": {},
   "outputs": [],
   "source": [
    "import numpy as np\n",
    "import matplotlib.pyplot as plt\n",
    "import cv2 as cv\n",
    "\n",
    "from expt_utils import *"
   ]
  },
  {
   "cell_type": "code",
   "execution_count": null,
   "metadata": {},
   "outputs": [],
   "source": [
    "OUT_DIR = make_out_dir('05')"
   ]
  },
  {
   "cell_type": "code",
   "execution_count": null,
   "metadata": {},
   "outputs": [],
   "source": [
    "img = cv.imread('img/simple_object_2.jpg')\n",
    "img = cv.cvtColor(img, cv.COLOR_BGR2RGB)\n",
    "\n",
    "img_shadow_detected = cv.imread('img/simple_object_2.jpg')\n",
    "img_gray = cv.cvtColor(img_shadow_detected, cv.COLOR_BGR2GRAY)\n",
    "\n",
    "_, thresh_binary = cv.threshold(img_gray, 127, 255, cv.THRESH_BINARY_INV)\n",
    "_, thresh_otsu = cv.threshold(\n",
    "    img_gray, 127, 255, cv.THRESH_BINARY + cv.THRESH_OTSU)\n",
    "thresh_adaptive = cv.adaptiveThreshold(\n",
    "    img_gray, 255, cv.ADAPTIVE_THRESH_MEAN_C, cv.THRESH_BINARY, 11, 2)\n",
    "\n",
    "plt.figure(figsize=(10, 6), tight_layout=True)\n",
    "\n",
    "plt.subplot(1, 4, 1), plt.axis('off'), plt.title('image')\n",
    "plt.imshow(img, cmap='gray')\n",
    "\n",
    "plt.subplot(1, 4, 2), plt.axis('off'), plt.title('binary')\n",
    "plt.imshow(thresh_binary, cmap='gray')\n",
    "\n",
    "plt.subplot(1, 4, 3), plt.axis('off'), plt.title('otsu')\n",
    "plt.imshow(thresh_otsu, cmap='gray')\n",
    "\n",
    "plt.subplot(1, 4, 4), plt.axis('off'), plt.title('adaptive')\n",
    "plt.imshow(thresh_adaptive, cmap='gray')\n",
    "\n",
    "plt.savefig(f\"{OUT_DIR}/1-threshold_kinds.png\",\n",
    "            format='png', bbox_inches='tight')"
   ]
  },
  {
   "cell_type": "code",
   "execution_count": null,
   "metadata": {},
   "outputs": [],
   "source": [
    "thresh_arithmetic = cv.adaptiveThreshold(\n",
    "    img_gray, 255, cv.ADAPTIVE_THRESH_MEAN_C, cv.THRESH_BINARY, 11, 2)\n",
    "thresh_gaussian = cv.adaptiveThreshold(\n",
    "    img_gray, 255, cv.ADAPTIVE_THRESH_GAUSSIAN_C, cv.THRESH_BINARY, 11, 2)\n",
    "\n",
    "plt.figure(figsize=(5, 6), tight_layout=True)\n",
    "\n",
    "plt.subplot(1, 2, 1), plt.axis('off'), plt.title('arithmetic_mean')\n",
    "plt.imshow(thresh_arithmetic, cmap='gray')\n",
    "\n",
    "plt.subplot(1, 2, 2), plt.axis('off'), plt.title('gaussian_mean')\n",
    "plt.imshow(thresh_gaussian, cmap='gray')\n",
    "\n",
    "plt.savefig(f\"{OUT_DIR}/2-mean.png\",\n",
    "            format='png', bbox_inches='tight')"
   ]
  },
  {
   "cell_type": "markdown",
   "metadata": {},
   "source": [
    "## Conclusion"
   ]
  },
  {
   "cell_type": "markdown",
   "metadata": {},
   "source": [
    "...\n",
    "\n",
    "...\n",
    "\n",
    "..."
   ]
  }
 ],
 "metadata": {
  "kernelspec": {
   "display_name": "Python 3",
   "language": "python",
   "name": "python3"
  },
  "language_info": {
   "codemirror_mode": {
    "name": "ipython",
    "version": 3
   },
   "file_extension": ".py",
   "mimetype": "text/x-python",
   "name": "python",
   "nbconvert_exporter": "python",
   "pygments_lexer": "ipython3",
   "version": "3.11.8"
  }
 },
 "nbformat": 4,
 "nbformat_minor": 2
}
