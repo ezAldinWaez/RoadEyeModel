{
 "cells": [
  {
   "cell_type": "markdown",
   "metadata": {},
   "source": [
    "# Thresholding on Shadow Detected Image"
   ]
  },
  {
   "cell_type": "markdown",
   "metadata": {},
   "source": [
    "## Introduction"
   ]
  },
  {
   "cell_type": "markdown",
   "metadata": {},
   "source": [
    "Thresholding is an image processing technique used to separate features of interest from the background in an image. it involves setting a threshold value, which acts as a boundary to determine whether a pixel's intensity or color value is considered part of the object or background. we aim to use Thresholds to enhance the quality of images before performing object detection which prepares images for better object detection and classification performance.\n",
    "\n",
    "Once objects are segmented using thresholding, various algorithms can be applied to detect and recognize objects based on their shape, size, texture, or other visual features.\n",
    "\n",
    "There are many types of Thresholding in the context of Image Processing, where we will use the most famous types (THRESH_BINARY, THRESH_OTSU, ADAPTIVE_THRESH where the last type can apply with two ways: thresh_arithmetic_mean and thresh_gaussian_mean)"
   ]
  },
  {
   "cell_type": "markdown",
   "metadata": {},
   "source": [
    "## Background"
   ]
  },
  {
   "cell_type": "markdown",
   "metadata": {},
   "source": [
    "...\n",
    "\n",
    "...\n",
    "\n",
    "..."
   ]
  },
  {
   "cell_type": "markdown",
   "metadata": {},
   "source": [
    "## Implementation"
   ]
  },
  {
   "cell_type": "markdown",
   "metadata": {},
   "source": [
    "<u>**1.THRESH_BINARY:**</u> is a manual thresholding technique where the threshold value is specified by the user, then it works by setting all pixel values below a specified threshold to 0 and all pixel values equal to or above the threshold to a maximum value (which also specified by the user (usually 255)).\n",
    "\n",
    "$$\n",
    "dst(x, y) = \\begin{cases} maxValue, & \\text{if } src(x, y) \\geq threshold \\\\ 0, & \\text{if } src(x, y) < threshold \\end{cases}\n",
    "$$\n",
    "\n",
    "This type of Thresholding is commonly used when there is a clear distinction between foreground and background intensities in the image.\n",
    "\n",
    "<br><br><u>**2.THRESH_OTSU:**</u> is an automatic thresholding technique that selects the optimal threshold value based on the image histogram, Otsu's method assumes that the image contains two classes of pixels: foreground and background. it iteratively calculates the threshold value that minimizes the intra-class variance within each class and maximizes the inter-class variance between the classes.\n",
    "\n",
    "\n",
    "Mathematically, THRESH_OTSU calculates the threshold value using a technique called the \"maximum between-class variance\" method:\n",
    "\n",
    "$$\n",
    "\\sigma_B^2(T) = \\omega_0(T) \\cdot \\omega_1(T) \\cdot (\\mu_0(T) - \\mu_1(T))^2\n",
    "$$\n",
    "\n",
    "Where:\n",
    "- $\\omega_0(T) = \\sum_{i=0}^{T} P(i):$ is the probability of the background class up to threshold $T$.\n",
    "- $\\omega_1(T) = \\sum_{i=T+1}^{L-1} P(i):$ is the probability of the foreground class starting from threshold $T+1$.\n",
    "- $\\mu_0(T) = \\sum_{i=0}^{T} \\frac{i \\cdot P(i)}{\\omega_0(T)}:$ is the mean intensity of the background class up to threshold $T$.\n",
    "- $\\mu_1(T) = \\sum_{i=T+1}^{L-1} \\frac{i \\cdot P(i)}{\\omega_1(T)}:$ is the mean intensity of the foreground class starting from threshold $T+1$.\n",
    "- $L:$ is the total number of intensity levels in the image.\n",
    "- $P(i):$ is the normalized histogram of the image, representing the probability of intensity level $i$ occurring in the image.\n",
    "\n",
    "This type of Thresholding is commonly used when to determine automatically the optimal threshold for image segmentation based on the distribution of pixel intensities in the image.\n",
    "\n",
    "<br><br><u>**3.ADAPTIVE_THRESH:**</u> adaptive thresholding techniques such as THRESH_MEAN_C and THRESH_GAUSSIAN_C dynamically adjust the threshold value for each pixel based on the local neighborhood information. \n",
    "\n",
    "<u>**3-1.THRESH_MEAN_C (Arithmetic Mean):**</u> computes the threshold for each pixel based on the arithmetic mean intensity of the neighboring pixels within a specified window around it.\n",
    "\n",
    "Mathematically, the threshold value for pixel (x, y) is determined as:\n",
    "\n",
    "$$\n",
    "T(x, y) = \\frac{1}{N} \\sum_{(x', y') \\in \\text{neighborhood of } (x, y)} I(x', y')\n",
    "$$\n",
    "\n",
    "Where:\n",
    "- $N:$ is the total number of pixels in the neighborhood,\n",
    "- $I(x', y'):$ is the intensity of pixel \\( (x', y') \\) in the neighborhood.\n",
    "\n",
    "<br><br><u>**3-2.THRESH_GAUSSIAN_C (Gaussian Mean):**</u> computes the threshold for each pixel based on the weighted average (convolution) of the intensities of neighboring pixels within a specified window around it, using a Gaussian kernel.\n",
    "\n",
    "Mathematically, the threshold value for pixel (x, y) is determined as:\n",
    "\n",
    "$$\n",
    "T(x, y) = \\sum_{(x', y') \\in \\text{neighborhood of } (x, y)} I(x', y') \\cdot G(x-x', y-y')\n",
    "$$\n",
    "\n",
    "Where:\n",
    "- $I(x', y'):$ Represents the intensity or value of the pixel at position (x', y') in the neighborhood.\n",
    "- $G(x-x', y-y'):$ Represents the weight or contribution of the pixel at position (x', y') in the neighborhood to the threshold value at pixel (x, y) (This weight is often determined by a Gaussian kernel, where the closer the pixel is to the center (x, y), the higher the weight it receives. This helps in giving more importance to the central pixels in the neighborhood).\n",
    "\n",
    "<br>This type of Thresholding (ADAPTIVE_THRESH) is effective for segmenting images with varying lighting conditions and local image characteristics"
   ]
  },
  {
   "cell_type": "code",
   "execution_count": 2,
   "metadata": {},
   "outputs": [],
   "source": [
    "import numpy as np\n",
    "import matplotlib.pyplot as plt\n",
    "import cv2 as cv\n",
    "\n",
    "from expt_utils import *"
   ]
  },
  {
   "cell_type": "code",
   "execution_count": 7,
   "metadata": {},
   "outputs": [],
   "source": [
    "img = cv.imread(f'{IMG_DIR}/simple_object_2.jpg')\n",
    "img_gray = cv.cvtColor(img, cv.COLOR_BGR2GRAY)\n",
    "\n",
    "_, thresh_binary = cv.threshold(img_gray, 127, 255, cv.THRESH_BINARY_INV)\n",
    "_, thresh_otsu = cv.threshold(\n",
    "    img_gray, 127, 255, cv.THRESH_BINARY + cv.THRESH_OTSU)\n",
    "thresh_adaptive = cv.adaptiveThreshold(\n",
    "    img_gray, 255, cv.ADAPTIVE_THRESH_MEAN_C, cv.THRESH_BINARY, 11, 2)\n",
    "\n",
    "\n",
    "cv.imshow('image', img)\n",
    "cv.imshow('Binary Threshold', thresh_binary)\n",
    "cv.imshow('Otsu  Threshold', thresh_otsu)\n",
    "cv.imshow('Adaptive  Threshold', thresh_adaptive)\n",
    "\n",
    "destroy_when_esc()"
   ]
  },
  {
   "cell_type": "code",
   "execution_count": 8,
   "metadata": {},
   "outputs": [],
   "source": [
    "thresh_arithmetic = cv.adaptiveThreshold(\n",
    "    img_gray, 255, cv.ADAPTIVE_THRESH_MEAN_C, cv.THRESH_BINARY, 11, 2)\n",
    "thresh_gaussian = cv.adaptiveThreshold(\n",
    "    img_gray, 255, cv.ADAPTIVE_THRESH_GAUSSIAN_C, cv.THRESH_BINARY, 11, 2)\n",
    "\n",
    "cv.imshow('Arithmetic Mean', thresh_arithmetic)\n",
    "cv.imshow('Gaussian Mean', thresh_gaussian)\n",
    "\n",
    "destroy_when_esc()"
   ]
  },
  {
   "cell_type": "markdown",
   "metadata": {},
   "source": [
    "## Conclusion"
   ]
  },
  {
   "cell_type": "markdown",
   "metadata": {},
   "source": [
    "We determine visually (what is the best clarity for an object) that adaptive threshold (GAUSSIAN_C) is best type of other thresholding types that used (thresh_binary, thresh_otsu)"
   ]
  }
 ],
 "metadata": {
  "kernelspec": {
   "display_name": "Python 3",
   "language": "python",
   "name": "python3"
  },
  "language_info": {
   "codemirror_mode": {
    "name": "ipython",
    "version": 3
   },
   "file_extension": ".py",
   "mimetype": "text/x-python",
   "name": "python",
   "nbconvert_exporter": "python",
   "pygments_lexer": "ipython3",
   "version": "3.11.8"
  }
 },
 "nbformat": 4,
 "nbformat_minor": 2
}
