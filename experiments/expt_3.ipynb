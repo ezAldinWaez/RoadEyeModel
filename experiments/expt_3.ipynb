{
 "cells": [
  {
   "cell_type": "markdown",
   "metadata": {},
   "source": [
    "# Filters"
   ]
  },
  {
   "cell_type": "code",
   "execution_count": null,
   "metadata": {},
   "outputs": [],
   "source": [
    "from expt_utils import *"
   ]
  },
  {
   "cell_type": "markdown",
   "metadata": {},
   "source": [
    "## Apply Filters"
   ]
  },
  {
   "cell_type": "code",
   "execution_count": null,
   "metadata": {},
   "outputs": [],
   "source": [
    "img = plt.imread(f'{DS_DIR}/val/images/00049_3880.jpg')\n",
    "img_gray = cv.cvtColor(img, cv.COLOR_RGB2GRAY)\n",
    "img_ground_truth = cv.imread(f'{IMG_DIR}/ground_truth/00049_3880.jpg', cv.IMREAD_GRAYSCALE)"
   ]
  },
  {
   "cell_type": "markdown",
   "metadata": {},
   "source": [
    "### Gaussian Blur Binary Filter"
   ]
  },
  {
   "cell_type": "code",
   "execution_count": null,
   "metadata": {},
   "outputs": [],
   "source": [
    "img_gaussian_blur_thresh = thresh_bin(cv.GaussianBlur(img, (13, 13), 0))\n",
    "\n",
    "plt.figure(figsize=(10, 4), tight_layout=True)\n",
    "\n",
    "plt.subplot(1, 2, 1), plt.axis('off'), plt.title('Image')\n",
    "plt.imshow(img)\n",
    "\n",
    "plt.subplot(1, 2, 2), plt.axis('off'), plt.title('Gaussian Blur Binary Filter')\n",
    "plt.imshow(img_gaussian_blur_thresh, cmap='gray')\n",
    "\n",
    "plt.savefig(f'{OUT_DIR}/03-01-filter_gaus_blur_bin')"
   ]
  },
  {
   "cell_type": "markdown",
   "metadata": {},
   "source": [
    "### Sobel (Mexican-Hat) Edges Filter"
   ]
  },
  {
   "cell_type": "code",
   "execution_count": null,
   "metadata": {},
   "outputs": [],
   "source": [
    "img_mexican_hat = img_to_mexican_hat_edges(img_gray, ksize=3)\n",
    "\n",
    "plt.figure(figsize=(10, 4), tight_layout=True)\n",
    "\n",
    "plt.subplot(1, 2, 1), plt.axis('off'), plt.title('Image')\n",
    "plt.imshow(img)\n",
    "\n",
    "plt.subplot(1, 2, 2), plt.axis('off'), plt.title('Mexican Hat Edges Filter')\n",
    "plt.imshow(img_mexican_hat, cmap='gray')\n",
    "\n",
    "plt.savefig(f'{OUT_DIR}/03-02-filter_maxican_hat')"
   ]
  },
  {
   "cell_type": "markdown",
   "metadata": {},
   "source": [
    "### Canny Edges Filter"
   ]
  },
  {
   "cell_type": "code",
   "execution_count": null,
   "metadata": {},
   "outputs": [],
   "source": [
    "img_canny = img_to_canny_edges(img)\n",
    "\n",
    "plt.figure(figsize=(10, 4), tight_layout=True)\n",
    "\n",
    "plt.subplot(1, 2, 1), plt.axis('off'), plt.title('Image')\n",
    "plt.imshow(img)\n",
    "\n",
    "plt.subplot(1, 2, 2), plt.axis('off'), plt.title('Canny Edges Filter')\n",
    "plt.imshow(img_canny, cmap='gray')\n",
    "\n",
    "plt.savefig(f'{OUT_DIR}/03-03-filter_canny')"
   ]
  },
  {
   "cell_type": "markdown",
   "metadata": {},
   "source": [
    "### Hanny Edges Filter"
   ]
  },
  {
   "cell_type": "code",
   "execution_count": null,
   "metadata": {},
   "outputs": [],
   "source": [
    "img_hanny = img_to_hanny_edges(img_gray, blur_kernal=(3, 3))\n",
    "\n",
    "plt.figure(figsize=(10, 4), tight_layout=True)\n",
    "\n",
    "plt.subplot(1, 2, 1), plt.axis('off'), plt.title('Image')\n",
    "plt.imshow(img)\n",
    "\n",
    "plt.subplot(1, 2, 2), plt.axis('off'), plt.title('Hanny Edges Filter')\n",
    "plt.imshow(img_hanny, cmap='gray')\n",
    "\n",
    "plt.savefig(f'{OUT_DIR}/03-04-filter_hanny')"
   ]
  },
  {
   "cell_type": "markdown",
   "metadata": {},
   "source": [
    "### Prewitt Edges Filter"
   ]
  },
  {
   "cell_type": "code",
   "execution_count": null,
   "metadata": {},
   "outputs": [],
   "source": [
    "img_prewitt = img_to_prewitt_edges(img_gray, kernel_size=(3, 3))\n",
    "\n",
    "plt.figure(figsize=(10, 4), tight_layout=True)\n",
    "\n",
    "plt.subplot(1, 2, 1), plt.axis('off'), plt.title('Image')\n",
    "plt.imshow(img)\n",
    "\n",
    "plt.subplot(1, 2, 2), plt.axis('off'), plt.title('Prewitt Edges Filter')\n",
    "plt.imshow(img_prewitt, cmap='gray')\n",
    "\n",
    "plt.savefig(f'{OUT_DIR}/03-05-filter_prewitt')"
   ]
  },
  {
   "cell_type": "markdown",
   "metadata": {},
   "source": [
    "### Rebert Cross Edges Filter"
   ]
  },
  {
   "cell_type": "code",
   "execution_count": null,
   "metadata": {},
   "outputs": [],
   "source": [
    "img_rebert_cross = img_to_rebert_cross_edges(img_gray, kernel_size=(3, 3))\n",
    "\n",
    "plt.figure(figsize=(10, 4), tight_layout=True)\n",
    "\n",
    "plt.subplot(1, 2, 1), plt.axis('off'), plt.title('Image')\n",
    "plt.imshow(img)\n",
    "\n",
    "plt.subplot(1, 2, 2), plt.axis('off'), plt.title('Rebert Cross Edges Filter')\n",
    "plt.imshow(img_rebert_cross, cmap='gray')\n",
    "\n",
    "plt.savefig(f'{OUT_DIR}/03-06-filter_rebert_cross')"
   ]
  },
  {
   "cell_type": "markdown",
   "metadata": {},
   "source": [
    "### Frei Chen Edges Filter"
   ]
  },
  {
   "cell_type": "code",
   "execution_count": null,
   "metadata": {},
   "outputs": [],
   "source": [
    "img_frei_chen = img_to_frei_chen_edges(img_gray, kernel_size=(3, 3))\n",
    "\n",
    "plt.figure(figsize=(10, 4), tight_layout=True)\n",
    "\n",
    "plt.subplot(1, 2, 1), plt.axis('off'), plt.title('Image')\n",
    "plt.imshow(img)\n",
    "\n",
    "plt.subplot(1, 2, 2), plt.axis('off'), plt.title('Frei Chen Edges Filter')\n",
    "plt.imshow(img_frei_chen, cmap='gray')\n",
    "\n",
    "plt.savefig(f'{OUT_DIR}/03-07-filter_frei_chen')"
   ]
  },
  {
   "cell_type": "markdown",
   "metadata": {},
   "source": [
    "### Cragis Edges Filter"
   ]
  },
  {
   "cell_type": "code",
   "execution_count": null,
   "metadata": {},
   "outputs": [],
   "source": [
    "img_cragis = img_to_cragis_edges(img_gray, kernel_size=(3, 3))\n",
    "\n",
    "plt.figure(figsize=(10, 4), tight_layout=True)\n",
    "\n",
    "plt.subplot(1, 2, 1), plt.axis('off'), plt.title('Image')\n",
    "plt.imshow(img)\n",
    "\n",
    "plt.subplot(1, 2, 2), plt.axis('off'), plt.title('Cragis Edges Filter')\n",
    "plt.imshow(img_cragis, cmap='gray')\n",
    "\n",
    "plt.savefig(f'{OUT_DIR}/03-08-filter_cragis')"
   ]
  },
  {
   "cell_type": "markdown",
   "metadata": {},
   "source": [
    "## Compare and Evaluate Filters"
   ]
  },
  {
   "cell_type": "code",
   "execution_count": null,
   "metadata": {},
   "outputs": [],
   "source": [
    "pd.DataFrame([\n",
    "    evaluate(img_gaussian_blur_thresh, img_ground_truth),\n",
    "    evaluate(img_mexican_hat, img_ground_truth),\n",
    "    evaluate(img_canny, img_ground_truth),\n",
    "    evaluate(img_hanny, img_ground_truth),\n",
    "    evaluate(img_prewitt, img_ground_truth),\n",
    "    evaluate(img_rebert_cross, img_ground_truth),\n",
    "    evaluate(img_frei_chen, img_ground_truth),\n",
    "    evaluate(img_cragis, img_ground_truth),\n",
    "],\n",
    "    index=[\n",
    "        'Gaussian Blur Evaluate',\n",
    "        'Mexican-Hat Filter Evaluate',\n",
    "        'Canny Filter Evaluate',\n",
    "        'Hanny Filter Evaluate',\n",
    "        'Prewitt Filter Evaluate',\n",
    "        'Rebert Cross Filter Evaluate',\n",
    "        'Frei Chen Filter Evaluate',\n",
    "        'Cragis Filter Evaluate',\n",
    "])"
   ]
  }
 ],
 "metadata": {
  "kernelspec": {
   "display_name": "Python 3",
   "language": "python",
   "name": "python3"
  },
  "language_info": {
   "codemirror_mode": {
    "name": "ipython",
    "version": 3
   },
   "file_extension": ".py",
   "mimetype": "text/x-python",
   "name": "python",
   "nbconvert_exporter": "python",
   "pygments_lexer": "ipython3",
   "version": "3.12.1"
  }
 },
 "nbformat": 4,
 "nbformat_minor": 2
}
