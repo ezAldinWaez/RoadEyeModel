{
 "cells": [
  {
   "cell_type": "markdown",
   "metadata": {},
   "source": [
    "# Resizing Contour Image & Apply MorphologyEx on Edges"
   ]
  },
  {
   "cell_type": "markdown",
   "metadata": {},
   "source": [
    "# Introduction"
   ]
  },
  {
   "cell_type": "markdown",
   "metadata": {},
   "source": [
    "We relied on resizing Contour images in context of object detection because it's  power and it offers several benefits in many criteria during processing:\n",
    "- Memory Storage Efficiency: Resizing contour images can reduce memory consumption, especially we have a large dataset images.\n",
    "\n",
    "- Speed Processing Optimization: Resizing contour images can help us to faster processing times, as operations performed on smaller images typically require less computational effort, this also help Algorithms such as contour detection, feature extraction, and object recognition to run more efficiently on resized images, this resulting in shorter processing times.\n",
    "\n",
    "We try to get the best countour size by taking different sizes and manipulate each of them individually \n",
    "\n",
    "To make significant enhancements to the Contours We try to apply some Morphological operations to reduse the Noise."
   ]
  },
  {
   "cell_type": "markdown",
   "metadata": {},
   "source": [
    "## Background"
   ]
  },
  {
   "cell_type": "markdown",
   "metadata": {},
   "source": [
    "...\n",
    "\n",
    "...\n",
    "\n",
    "..."
   ]
  },
  {
   "cell_type": "markdown",
   "metadata": {},
   "source": [
    "## Implementation"
   ]
  },
  {
   "cell_type": "markdown",
   "metadata": {},
   "source": [
    "We convert an input image to its edges using Canny edge detection algorithm with some additional preprocessing steps: \n",
    "\n",
    "- Determine Lower and Upper Thresholds: by caclulating as 70% of the median intensity value for lower threshold and 130% of the median intensity value for the upper threshold (ensuring that it's at least 0 and that it's at most 255 for lower and upper threshold respectively).\n",
    "\n",
    "- Apply Blur using a specified blur kernel size (3*3): blur helps to smooth the image and reduce noise, which can improve the accuracy of edge detection.\n",
    "\n",
    "Once we get the edges we find and draw the External Contours (where contourIdx parameter with value -1 refer to external contour regardless the object Id) then apply resizing operation on several contour image sizes (0.4, 0.5, 0.6, 0.7, 0.8).\n",
    "\n",
    "For more enhancements we apply CLOSE morph operation on contour image.\n"
   ]
  },
  {
   "cell_type": "code",
   "execution_count": 3,
   "metadata": {},
   "outputs": [],
   "source": [
    "import numpy as np\n",
    "import matplotlib.pyplot as plt\n",
    "import cv2 as cv\n",
    "\n",
    "from expt_utils import *"
   ]
  },
  {
   "cell_type": "markdown",
   "metadata": {},
   "source": [
    "### Resize Contours to Multiple Scales"
   ]
  },
  {
   "cell_type": "code",
   "execution_count": 4,
   "metadata": {},
   "outputs": [],
   "source": [
    "def scale_img(img, scale=0.5):\n",
    "    new_shape = (int(img.shape[1] * scale), int(img.shape[0] * scale))\n",
    "    img_scaled = cv.resize(img, new_shape)\n",
    "    return img_scaled"
   ]
  },
  {
   "cell_type": "code",
   "execution_count": 7,
   "metadata": {},
   "outputs": [],
   "source": [
    "img = cv.imread(f'{DS_DIR}/frames/train/00012/00012_1560.jpg')\n",
    "img_gray = cv.cvtColor(img, cv.COLOR_BGR2GRAY)\n",
    "img_edges = img_to_canny_edges(img_gray)\n",
    "img_contours = edges_to_contours(img_edges)\n",
    "\n",
    "for scale in [0.4, 0.5, 0.6, 0.7, 0.8]:\n",
    "    cv.imshow(f'Contours ({scale = })', scale_img(img_contours, scale))\n",
    "\n",
    "destroy_when_esc()"
   ]
  },
  {
   "cell_type": "markdown",
   "metadata": {},
   "source": [
    "### Apply MorphologyEx on Edges and Draw Contours"
   ]
  },
  {
   "cell_type": "code",
   "execution_count": 13,
   "metadata": {},
   "outputs": [],
   "source": [
    "img_edges_morph = cv.morphologyEx(img_edges, cv.MORPH_CLOSE, np.ones((5, 5), np.uint8))\n",
    "img_edges_morph_contours = edges_to_contours(img_edges_morph)\n",
    "\n",
    "cv.imshow('Edges', img_edges)\n",
    "cv.imshow('Contours from Edges', img_contours)\n",
    "cv.imshow('Edges with MorphologyEx', img_edges_morph)\n",
    "cv.imshow('Contours from Edges with MorphologyEx', img_edges_morph_contours)\n",
    "\n",
    "destroy_when_esc()"
   ]
  },
  {
   "cell_type": "markdown",
   "metadata": {},
   "source": [
    "# Conclusion"
   ]
  },
  {
   "cell_type": "markdown",
   "metadata": {},
   "source": [
    "- We end with 0.6 size during resizing process [this currently done by evaluating some random videos frames]. \n",
    "\n",
    "- By applying Morphological operation we can see clearly that it refine the contours of objects by filling gaps, closing small breaks, and smoothing jagged edges. This enhances the completeness and continuity of contours, making them more suitable for precise object recognition.\n",
    "\n",
    " <u>**Note:**</u> to keep it simple all the results until now done with visually evaluation, later we are going to use more advanced techniques that help us to improve the process."
   ]
  }
 ],
 "metadata": {
  "kernelspec": {
   "display_name": "Python 3",
   "language": "python",
   "name": "python3"
  },
  "language_info": {
   "codemirror_mode": {
    "name": "ipython",
    "version": 3
   },
   "file_extension": ".py",
   "mimetype": "text/x-python",
   "name": "python",
   "nbconvert_exporter": "python",
   "pygments_lexer": "ipython3",
   "version": "3.11.8"
  }
 },
 "nbformat": 4,
 "nbformat_minor": 2
}
