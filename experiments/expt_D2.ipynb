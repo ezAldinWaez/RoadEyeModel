{
 "cells": [
  {
   "cell_type": "markdown",
   "metadata": {},
   "source": [
    "# {Depricated} Object Matching Evaluation for Filtered Images"
   ]
  },
  {
   "cell_type": "markdown",
   "metadata": {},
   "source": [
    "## Implementation"
   ]
  },
  {
   "cell_type": "code",
   "execution_count": null,
   "metadata": {},
   "outputs": [],
   "source": [
    "import matplotlib.pyplot as plt\n",
    "import numpy as np\n",
    "import cv2 as cv\n",
    "from sklearn.metrics.pairwise import cosine_similarity\n",
    "\n",
    "from expt_utils import *"
   ]
  },
  {
   "cell_type": "markdown",
   "metadata": {},
   "source": [
    "### Compare Original Image to Desired Image"
   ]
  },
  {
   "cell_type": "code",
   "execution_count": null,
   "metadata": {},
   "outputs": [],
   "source": [
    "img = cv.imread(f'{DS_DIR}/frames/train/00029/flip/00029_1640_flip.jpg')\n",
    "img_desired = cv.imread(f'{IMG_DIR}/desired_mask_for_00029_1640_flip.png', cv.IMREAD_GRAYSCALE)\n",
    "\n",
    "cv.imshow('Original Image', img)\n",
    "cv.imshow('Desired Image', img_desired)\n",
    "\n",
    "destroy_when_esc()"
   ]
  },
  {
   "cell_type": "markdown",
   "metadata": {},
   "source": [
    "### Apply Some Filters"
   ]
  },
  {
   "cell_type": "code",
   "execution_count": null,
   "metadata": {},
   "outputs": [],
   "source": [
    "img_gray = cv.cvtColor(img, cv.COLOR_BGR2GRAY)\n",
    "img_canny = img_to_canny_edges(img)\n",
    "img_mexican_hat = img_to_mexican_hat(img_gray).astype('uint8')\n",
    "img_hanny = img_to_hanny(img_gray).astype('uint8')\n",
    "img_blur = cv.GaussianBlur(img, (3, 3), 0).astype('uint8')\n",
    "\n",
    "cv.imshow('Image - Canny Edges Filter', img_canny)\n",
    "cv.imshow('Image - Mexican Hat Filter', img_mexican_hat)\n",
    "cv.imshow('Image - Hanny Filter', img_hanny)\n",
    "cv.imshow('Image - Gaussian Blur Filter', img_blur)\n",
    "\n",
    "destroy_when_esc()"
   ]
  },
  {
   "cell_type": "code",
   "execution_count": null,
   "metadata": {},
   "outputs": [],
   "source": [
    "img_mexican_hat_thresh = thresh_otsu(img_mexican_hat)\n",
    "img_hanny_thresh = thresh_otsu(img_hanny)\n",
    "img_blur_thresh = thresh_otsu(img_blur)\n",
    "\n",
    "cv.imshow('Thresh Image - Mexican Hat Filter', img_mexican_hat_thresh)\n",
    "cv.imshow('Thresh Image - Hanny Fsilter', img_hanny_thresh)\n",
    "cv.imshow('Thresh Image - Gaussian Blur Filter', img_blur_thresh)\n",
    "\n",
    "destroy_when_esc()"
   ]
  },
  {
   "cell_type": "markdown",
   "metadata": {},
   "source": [
    "### Compare and Evaluate the Results"
   ]
  },
  {
   "cell_type": "markdown",
   "metadata": {},
   "source": [
    "#### Correlation Coeficient Method"
   ]
  },
  {
   "cell_type": "code",
   "execution_count": null,
   "metadata": {},
   "outputs": [],
   "source": [
    "corrcof_canny = np.corrcoef(img_canny.flatten(), img_desired.flatten())[0, 1]\n",
    "corrcof_mexican_hat = np.corrcoef(img_mexican_hat_thresh.flatten(), img_desired.flatten())[0, 1]\n",
    "corrcof_hanny = np.corrcoef(img_hanny_thresh.flatten(), img_desired.flatten())[0, 1]\n",
    "corrcof_gaussian = np.corrcoef(img_blur_thresh.flatten(), img_desired.flatten())[0, 1]\n",
    "\n",
    "print(corrcof_canny, corrcof_mexican_hat, corrcof_hanny, corrcof_gaussian)"
   ]
  },
  {
   "cell_type": "markdown",
   "metadata": {},
   "source": [
    "#### Eculodian Distance Method"
   ]
  },
  {
   "cell_type": "code",
   "execution_count": null,
   "metadata": {},
   "outputs": [],
   "source": [
    "img_canny_diff = np.sqrt((img_canny - img_desired)**2)\n",
    "img_mexican_hat_diff = np.sqrt((img_mexican_hat_thresh - img_desired)**2)\n",
    "img_hanny_diff = np.sqrt((img_hanny_thresh - img_desired)**2)\n",
    "img_blur_diff = np.sqrt((img_blur_thresh - img_desired)**2)\n",
    "\n",
    "dis_ecl_canny = np.sum(img_canny_diff)\n",
    "dis_ecl_mexican_hat = np.sum(img_mexican_hat_diff)\n",
    "dis_ecl_hanny = np.sum(img_hanny_diff)\n",
    "dis_ecl_blur = np.sum(img_blur_diff)\n",
    "\n",
    "dis_ecl_canny = np.floor(dis_ecl_canny)\n",
    "dis_ecl_mexican_hat = np.floor(dis_ecl_mexican_hat)\n",
    "dis_ecl_hanny = np.floor(dis_ecl_hanny)\n",
    "dis_ecl_blur = np.floor(dis_ecl_blur)\n",
    "\n",
    "print(dis_ecl_canny,dis_ecl_mexican_hat,dis_ecl_hanny,dis_ecl_blur)"
   ]
  },
  {
   "cell_type": "markdown",
   "metadata": {},
   "source": [
    "#### Cosine Similarity Method"
   ]
  },
  {
   "cell_type": "code",
   "execution_count": null,
   "metadata": {},
   "outputs": [],
   "source": [
    "img_canny_pixels = img_canny.flatten().reshape(1,-1)\n",
    "img_mexican_hat_pixels = img_mexican_hat_thresh.flatten().reshape(1,-1)\n",
    "img_hanny_pixels = img_hanny_thresh.flatten().reshape(1,-1)\n",
    "img_blur_pixels = img_blur_thresh.flatten().reshape(1,-1)\n",
    "img_desired_pixels = img_desired.flatten().reshape(1,-1)\n",
    "\n",
    "canny_cos_scr = cosine_similarity(img_canny_pixels, img_desired_pixels)[0][0]\n",
    "mexican_hat_cos_scr = cosine_similarity(img_mexican_hat_pixels, img_desired_pixels)[0][0]\n",
    "hanny_cos_scr = cosine_similarity(img_hanny_pixels, img_desired_pixels)[0][0]\n",
    "blur_cos_scr = cosine_similarity(img_blur_pixels, img_desired_pixels)[0][0]\n",
    "\n",
    "print(canny_cos_scr,mexican_hat_cos_scr,hanny_cos_scr,blur_cos_scr)"
   ]
  }
 ],
 "metadata": {
  "kernelspec": {
   "display_name": "Python 3",
   "language": "python",
   "name": "python3"
  },
  "language_info": {
   "codemirror_mode": {
    "name": "ipython",
    "version": 3
   },
   "file_extension": ".py",
   "mimetype": "text/x-python",
   "name": "python",
   "nbconvert_exporter": "python",
   "pygments_lexer": "ipython3",
   "version": "3.11.8"
  }
 },
 "nbformat": 4,
 "nbformat_minor": 2
}
