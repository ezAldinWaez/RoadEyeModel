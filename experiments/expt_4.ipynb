{
 "cells": [
  {
   "cell_type": "markdown",
   "metadata": {},
   "source": [
    "# Image Filters and Kernel evaluation"
   ]
  },
  {
   "cell_type": "markdown",
   "metadata": {},
   "source": [
    "## Introduction"
   ]
  },
  {
   "cell_type": "markdown",
   "metadata": {},
   "source": [
    "Image filters can be used to extract meaningful features from images for various tasks, which  play a crucial role in image processing, it allow us to manipulate and enhance digital images in various ways. These filters are mathematical operations applied to images, involve convolving the image with a kernel (mask). \n",
    "\n",
    "in this lab we will use edge detection filters like Canny, Sobel, Hanny (Laplacian based on Gaussian matrix (Hanny-laplacian)) and blur filters like Gaussian filter and evaluate their kernel sizes to choose the best one."
   ]
  },
  {
   "cell_type": "markdown",
   "metadata": {},
   "source": [
    "## Implementation"
   ]
  },
  {
   "cell_type": "markdown",
   "metadata": {},
   "source": [
    "<u>**1.Blur Filters:**</u> these filters reduce image details and sharpness, which resulting in a softened appearance. This blurring effect can be useful for simulating depth of field, reduce image artifacts and anonymizing sensitive information in the image.\n",
    "\n",
    "The Gaussian kernel can be generated using the following formula:\n",
    "\n",
    "$$\n",
    "G(x, y) = \\frac{1}{2\\pi\\sigma^2} \\exp{\\left(-\\frac{x^2 + y^2}{2\\sigma^2}\\right)}\n",
    "$$\n",
    "\n",
    "Where:\n",
    "\n",
    "$(x,y):$ The coordinates within the kernel matrix. These values are used to compute the distance from the center of the kernel.\n",
    "\n",
    "$σ:$ The standard deviation determines the spread or width of the Gaussian distribution. A larger (σ)\n",
    "value results in a wider and smoother Gaussian curve. \n",
    "\n",
    "Example Gaussian kernel for σ = 1 and k = 5:\n",
    "\n",
    "<center>\n",
    "\n",
    "| 0.003 | 0.013 | 0.022 | 0.013 | 0.003 |\n",
    "|---|---|---|---|---|\n",
    "| 0.013 | 0.059 | 0.097 | 0.059 | 0.013 |\n",
    "| 0.022 | 0.097 | 0.159 | 0.097 | 0.022 |\n",
    "| 0.013 | 0.059 | 0.097 | 0.059 | 0.013 |\n",
    "| 0.003 | 0.013 | 0.022 | 0.013 | 0.003 |\n",
    "\n",
    "</center>\n",
    "\n",
    "<u>**2.Edge Detection Filters:**</u> this king filters highlight sudden changes in intensity such as edges and boundaries between objects by convolving the image with specific kernels that emphasize horizontal, vertical, or diagonal edges.\n",
    "\n",
    "<u>**2.1.Sobel Filter:**</u> The Sobel operator is a discrete differentiation operator used to compute the gradient magnitude of an image, it is defined by two kernels, one for detecting horizontal edges and the other for vertical edges.\n",
    "\n",
    "Horizontal Sobel Kernel:\n",
    "\n",
    "<center>\n",
    "\n",
    "| -1 | 0 | 1 |\n",
    "|---|---|---|\n",
    "| -2 | 0 | 2 |\n",
    "| 1 | 0 | 1 |\n",
    "\n",
    "</center>\n",
    "\n",
    "Vertical Sobel Kernel:\n",
    "\n",
    "<center>\n",
    "\n",
    "| -1 | -2 | -1 |\n",
    "|---|---|---|\n",
    "| 0 | 0 | 0 |\n",
    "| 1 | 2 | 1 |\n",
    " \n",
    "</center> \n",
    "\n",
    "<u>**2.2.Canny Filter:**</u> The primary kernel used in the Canny edge detection algorithm is the same Sobel operator.\n",
    "\n",
    "<u>**2.3.Hanny Filter:**</u> The Hanny filter is a hybrid edge detection filter that combines Gaussian smoothing with the Laplacian of Gaussian (LoG) operator.\n",
    "\n",
    "Where:\n",
    "- Gaussian Kernel: The Gaussian kernel is used to smooth the image and reduce noise. It is a two-dimensional matrix obtained by evaluating the Gaussian function at different coordinates.\n",
    "\n",
    "- Laplacian of Gaussian (LoG) Kernel: The LoG kernel is derived from the Laplacian operator applied to the Gaussian-smoothed image. It enhances edges by emphasizing areas of rapid intensity change."
   ]
  },
  {
   "cell_type": "code",
   "execution_count": null,
   "metadata": {},
   "outputs": [],
   "source": [
    "from expt_utils import *"
   ]
  },
  {
   "cell_type": "code",
   "execution_count": null,
   "metadata": {},
   "outputs": [],
   "source": [
    "img = plt.imread(f'{DS_DIR}/frames/train/00029/flip/00029_1640_flip.jpg')\n",
    "img_gray = cv.cvtColor(img, cv.COLOR_RGB2GRAY)\n",
    "\n",
    "img_canny = img_to_canny_edges(img)\n",
    "img_gaussian_blur_thresh = thresh_bin_inv(cv.GaussianBlur(img, (13, 13), 0))\n",
    "img_mexican_hat = img_to_mexican_hat(img_gray, ksize=3)\n",
    "img_hanny = img_to_hanny(img_gray, blur_kernal=(3, 3))\n",
    "\n",
    "plt.figure(figsize=(10, 7), tight_layout=True)\n",
    "\n",
    "plt.subplot(2, 2, 1), plt.axis('off'), plt.title('Canny Filter')\n",
    "plt.imshow(img_canny, cmap='gray')\n",
    "\n",
    "plt.subplot(2, 2, 2), plt.axis('off'), plt.title('Gaussian Blur Binary Filter')\n",
    "plt.imshow(img_gaussian_blur_thresh, cmap='gray')\n",
    "\n",
    "plt.subplot(2, 2, 3), plt.axis('off'), plt.title('Mexican Hat Filter')\n",
    "plt.imshow(img_mexican_hat, cmap='gray')\n",
    "\n",
    "plt.subplot(2, 2, 4), plt.axis('off'), plt.title('Hanny Filter')\n",
    "plt.imshow(img_hanny, cmap='gray')\n",
    "\n",
    "plt.savefig(f'{OUT_DIR}/05-01-filters')"
   ]
  },
  {
   "cell_type": "markdown",
   "metadata": {},
   "source": [
    "### Compare and Evaluate Filters"
   ]
  },
  {
   "cell_type": "code",
   "execution_count": null,
   "metadata": {},
   "outputs": [],
   "source": [
    "img_ground_truth = cv.imread(f'{IMG_DIR}/ground_truth/00029_1640_flip.jpg', cv.IMREAD_GRAYSCALE)\n",
    "\n",
    "\n",
    "pd.DataFrame([\n",
    "    evaluate(img_canny, img_ground_truth),\n",
    "    evaluate(img_gaussian_blur_thresh, img_ground_truth),\n",
    "    evaluate(img_mexican_hat, img_ground_truth),\n",
    "    evaluate(img_hanny, img_ground_truth),\n",
    "],\n",
    "    index=[\n",
    "        'Canny Edges Evaluate',\n",
    "        'Gaussian Blur Evaluate',\n",
    "        'Mexican-Hat Filter Evaluate',\n",
    "        'Hanny Filter Evaluate',\n",
    "])"
   ]
  }
 ],
 "metadata": {
  "kernelspec": {
   "display_name": "Python 3",
   "language": "python",
   "name": "python3"
  },
  "language_info": {
   "codemirror_mode": {
    "name": "ipython",
    "version": 3
   },
   "file_extension": ".py",
   "mimetype": "text/x-python",
   "name": "python",
   "nbconvert_exporter": "python",
   "pygments_lexer": "ipython3",
   "version": "3.11.8"
  }
 },
 "nbformat": 4,
 "nbformat_minor": 2
}
