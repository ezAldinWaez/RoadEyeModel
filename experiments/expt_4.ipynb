{
 "cells": [
  {
   "cell_type": "markdown",
   "metadata": {},
   "source": [
    "# Shadow Detection and Removal"
   ]
  },
  {
   "cell_type": "code",
   "execution_count": null,
   "metadata": {},
   "outputs": [],
   "source": [
    "from expt_utils import *"
   ]
  },
  {
   "cell_type": "code",
   "execution_count": null,
   "metadata": {},
   "outputs": [],
   "source": [
    "img_rgb = plt.imread(f'{DS_DIR}/val/images/00049_3880.jpg')\n",
    "img_lab = cv.cvtColor(img_rgb, cv.COLOR_RGB2LAB)\n",
    "\n",
    "img_l, img_a, img_b = cv.split(img_lab)\n",
    "\n",
    "hist_l = cv.calcHist([img_lab], [0], None, [256], [0, 256]).flatten()\n",
    "hist_a = cv.calcHist([img_lab], [1], None, [256], [0, 256]).flatten()\n",
    "hist_b = cv.calcHist([img_lab], [2], None, [256], [0, 256]).flatten()\n",
    "\n",
    "plt.figure(figsize=(10, 6), tight_layout=True)\n",
    "\n",
    "plt.subplot(3, 3, (1, 3)), plt.axis('off'), plt.title('Image')\n",
    "plt.imshow(img_rgb)\n",
    "\n",
    "\n",
    "plt.subplot(3, 3, 4), plt.axis('off'), plt.title('L Channel')\n",
    "plt.imshow(img_l, cmap='gray')\n",
    "\n",
    "plt.subplot(3, 3, 5), plt.axis('off'), plt.title('A Channel')\n",
    "plt.imshow(img_a, cmap='gray')\n",
    "\n",
    "plt.subplot(3, 3, 6), plt.axis('off'), plt.title('B Channel')\n",
    "plt.imshow(img_b, cmap='gray')\n",
    "\n",
    "plt.subplot(3, 3, 7), plt.title('L Channel Histogram')\n",
    "plt.bar(range(256), hist_l, color='k')\n",
    "\n",
    "plt.subplot(3, 3, 8), plt.title('A Channel Histogram')\n",
    "plt.bar(range(256), hist_a, color='k')\n",
    "\n",
    "plt.subplot(3, 3, 9), plt.title('B Channel Histogram')\n",
    "plt.bar(range(256), hist_b, color='k')\n",
    "\n",
    "plt.savefig(f'{OUT_DIR}/04-01-img_lab_hist')"
   ]
  },
  {
   "cell_type": "code",
   "execution_count": null,
   "metadata": {},
   "outputs": [],
   "source": [
    "img_shadow_mask = find_shadow_mask(img_rgb)\n",
    "img_shadow_removed = shadow_remove(img_rgb, img_shadow_mask)\n",
    "\n",
    "plt.figure(figsize=(10, 2.3), tight_layout=True)\n",
    "\n",
    "plt.subplot(1, 3, 1), plt.axis('off'), plt.title('Image')\n",
    "plt.imshow(img_rgb)\n",
    "\n",
    "plt.subplot(1, 3, 2), plt.axis('off'), plt.title('Shadow Mask')\n",
    "plt.imshow(img_shadow_mask, cmap='gray')\n",
    "\n",
    "plt.subplot(1, 3, 3), plt.axis('off'), plt.title('Image Shadow Removed')\n",
    "plt.imshow(img_shadow_removed)\n",
    "\n",
    "plt.savefig(f'{OUT_DIR}/04-02-detect_and_remove_shadow')"
   ]
  }
 ],
 "metadata": {
  "kernelspec": {
   "display_name": "Python 3",
   "language": "python",
   "name": "python3"
  },
  "language_info": {
   "codemirror_mode": {
    "name": "ipython",
    "version": 3
   },
   "file_extension": ".py",
   "mimetype": "text/x-python",
   "name": "python",
   "nbconvert_exporter": "python",
   "pygments_lexer": "ipython3",
   "version": "3.11.4"
  }
 },
 "nbformat": 4,
 "nbformat_minor": 2
}
