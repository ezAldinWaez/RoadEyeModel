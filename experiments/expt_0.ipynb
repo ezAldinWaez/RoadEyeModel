{
 "cells": [
  {
   "cell_type": "markdown",
   "metadata": {},
   "source": [
    "# Basic concepts"
   ]
  },
  {
   "cell_type": "code",
   "execution_count": null,
   "metadata": {},
   "outputs": [],
   "source": [
    "from expt_utils import *"
   ]
  },
  {
   "cell_type": "markdown",
   "metadata": {},
   "source": [
    "## Grayscale and Binary Converting"
   ]
  },
  {
   "cell_type": "code",
   "execution_count": null,
   "metadata": {},
   "outputs": [],
   "source": [
    "img_rgb = plt.imread(f'{DS_DIR}/val/images/00066_1040.jpg')\n",
    "img_gray = cv.cvtColor(img_rgb, cv.COLOR_RGB2GRAY)\n",
    "img_bin_100 = cv.threshold(img_gray, 100, 255, cv.THRESH_BINARY)[1]\n",
    "img_bin_150 = cv.threshold(img_gray, 150, 255, cv.THRESH_BINARY)[1]\n",
    "\n",
    "plt.figure(figsize=(10, 7), tight_layout=True)\n",
    "\n",
    "plt.subplot(2, 2, 1), plt.axis('off'), plt.title('RGB Image')\n",
    "plt.imshow(img_rgb)\n",
    "\n",
    "plt.subplot(2, 2, 2), plt.axis('off'), plt.title('Grayscale Image')\n",
    "plt.imshow(img_gray, cmap='gray')\n",
    "\n",
    "plt.subplot(2, 2, 3), plt.axis('off'), plt.title('Binary Image (thresh=100)')\n",
    "plt.imshow(img_bin_100, cmap='gray')\n",
    "\n",
    "plt.subplot(2, 2, 4), plt.axis('off'), plt.title('Binary Image (thresh=150)')\n",
    "plt.imshow(img_bin_150, cmap='gray')\n",
    "\n",
    "plt.savefig(f'{OUT_DIR}/00-01-rgb_gray_bin')"
   ]
  },
  {
   "cell_type": "markdown",
   "metadata": {},
   "source": [
    "## Rescaling"
   ]
  },
  {
   "cell_type": "code",
   "execution_count": null,
   "metadata": {},
   "outputs": [],
   "source": [
    "img_bgr = cv.cvtColor(img_rgb, cv.COLOR_RGB2BGR)\n",
    "\n",
    "for s in [1.2, 1.0, 0.8, 0.6]:\n",
    "    new_shape = (int(img_bgr.shape[1] * s), int(img_bgr.shape[0] * s))\n",
    "    img_bgr_scaled = cv.resize(img_bgr, new_shape)\n",
    "    cv.imshow(f'scaled image ({s = :.0%})', img_bgr_scaled)\n",
    "\n",
    "destroy_when_esc()"
   ]
  },
  {
   "cell_type": "markdown",
   "metadata": {},
   "source": [
    "## RGB Histograms"
   ]
  },
  {
   "cell_type": "code",
   "execution_count": null,
   "metadata": {},
   "outputs": [],
   "source": [
    "img_red, img_green, img_blue = cv.split(img_rgb)\n",
    "\n",
    "hist_red = cv.calcHist([img_rgb], [0], None, [256], [0, 256]).flatten()\n",
    "hist_green = cv.calcHist([img_rgb], [1], None, [256], [0, 256]).flatten()\n",
    "hist_blue = cv.calcHist([img_rgb], [2], None, [256], [0, 256]).flatten()\n",
    "\n",
    "plt.figure(figsize=(10, 5), tight_layout=True)\n",
    "\n",
    "plt.subplot(2, 3, 1), plt.axis('off'), plt.title('Red Channel')\n",
    "plt.imshow(img_red, cmap='gray')\n",
    "\n",
    "plt.subplot(2, 3, 2), plt.axis('off'), plt.title('Green Channel')\n",
    "plt.imshow(img_green, cmap='gray')\n",
    "\n",
    "plt.subplot(2, 3, 3), plt.axis('off'), plt.title('Blue Channel')\n",
    "plt.imshow(img_blue, cmap='gray')\n",
    "\n",
    "plt.subplot(2, 3, (4, 6)), plt.title('Image RGB Histograms')\n",
    "plt.bar(range(256), hist_red, color='r', alpha=0.5)\n",
    "plt.bar(range(256), hist_green, color='g', alpha=0.4)\n",
    "plt.bar(range(256), hist_blue, color='b', alpha=0.3)\n",
    "\n",
    "plt.savefig(f'{OUT_DIR}/00-02-img_rgb_hist')"
   ]
  },
  {
   "cell_type": "markdown",
   "metadata": {},
   "source": [
    "## Contour Lines"
   ]
  },
  {
   "cell_type": "code",
   "execution_count": null,
   "metadata": {},
   "outputs": [],
   "source": [
    "plt.figure(figsize=(10, 2.3), tight_layout=True)\n",
    "\n",
    "plt.subplot(1, 3, 1), plt.axis('off'), plt.title('Gray Image')\n",
    "plt.imshow(img_gray, cmap='gray')\n",
    "\n",
    "plt.subplot(1, 3, 2), plt.axis('off'), plt.title('Image Contour Lines')\n",
    "plt.contour(np.flipud(img_gray), colors='k', levels=np.logspace(-15, 15, 100))\n",
    "\n",
    "plt.subplot(1, 3, 3), plt.axis('off'), plt.title('Image Filled Contour')\n",
    "plt.contourf(np.flipud(img_gray), cmap='inferno')\n",
    "\n",
    "plt.savefig(f'{OUT_DIR}/00-03-gray_contourlines_contourfilled')"
   ]
  }
 ],
 "metadata": {
  "kernelspec": {
   "display_name": "Python 3",
   "language": "python",
   "name": "python3"
  },
  "language_info": {
   "codemirror_mode": {
    "name": "ipython",
    "version": 3
   },
   "file_extension": ".py",
   "mimetype": "text/x-python",
   "name": "python",
   "nbconvert_exporter": "python",
   "pygments_lexer": "ipython3",
   "version": "3.11.4"
  }
 },
 "nbformat": 4,
 "nbformat_minor": 2
}
