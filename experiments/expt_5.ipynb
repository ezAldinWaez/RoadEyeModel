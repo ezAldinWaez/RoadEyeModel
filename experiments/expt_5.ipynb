{
 "cells": [
  {
   "cell_type": "markdown",
   "metadata": {},
   "source": [
    "# Shadow Detection and Removal"
   ]
  },
  {
   "cell_type": "markdown",
   "metadata": {},
   "source": [
    "## Introduction"
   ]
  },
  {
   "cell_type": "markdown",
   "metadata": {},
   "source": [
    "A shadow appears on an area when the light from a source cannot reach the area due to obstruction by an object.\n",
    "\n",
    "Shadow in general are of two types: hard and soft shadows. The soft shadows retain the texture of the background surface, whereas the hard shadows are too dark and have little texture.\n",
    "\n",
    "Most of the shadow detection methods need multiple images for camera calibration, But there are some techniques that able to extract shadows from a single image where we will consider one of them for our project.\n",
    "\n",
    "A shadow detection method is selected based on the mean value of RGB image in A and B planes of LAB equivalent of the image.\n"
   ]
  },
  {
   "cell_type": "markdown",
   "metadata": {},
   "source": [
    "### The LAB color space\n"
   ]
  },
  {
   "cell_type": "markdown",
   "metadata": {},
   "source": [
    "<img align=\"right\" src=\"img/lab_color_space.jpg\" style=\" width:300px; padding: 0 20px;  \" />\n",
    "\n",
    "The LAB color space has three channels − L is the Lightness channel, A and B are the two color channels.\n",
    "\n",
    "The L channel has values ranging from 0 up to 100, which correspond to different shades from black to white. The A channel has values ranging from −128 up to +127 and gives the red to green ratio. The B channel also has values ranging from −128 up to +127 and gives the yellow to blue ratio.\n",
    "\n",
    "Thus, a high value in A or B channel represents a color having more red or yellow and a low value represents a color having more green or blue.\n",
    "\n",
    "We will apply this task by Detecting the shadows of objects first, then try to remove these shadows.\n"
   ]
  },
  {
   "cell_type": "markdown",
   "metadata": {},
   "source": [
    "### 1. Shadow Detection\n"
   ]
  },
  {
   "cell_type": "markdown",
   "metadata": {},
   "source": [
    "An approach to detect the shadows areas in a single RGB image is convert from RGB to LAB color space. Since the shadow regions are darker and less illuminated than the surroundings, it is easy to locate them in the L channel since the L channel gives lightness information. The B channel values are also lesser in the shadow areas in most of the outdoor images.\n",
    "\n",
    "Thus combining the values from L and B channels, the pixels with values less than a threshold are identified as shadow pixels, and others as non-shadow pixels. The method works well only for images whose yellow to blue ratio is maintained within a range.\n",
    "\n",
    "The mean value of the image in A and B channels are calculated.\n",
    "\n",
    "The major steps involved in the shadow detection phase are:\n",
    "\n",
    "1. Convert the RGB image to a LAB image.\n",
    "\n",
    "2. Compute the mean values of the pixels in L, A and B planes of the image separately.\n",
    "\n",
    "3. If mean (A) + mean (B) ≤ 256 then Classify the pixels with a value in L ≤(mean(L) – standard deviation (L)/3) as shadow pixels and others as non-shadow pixels.\n",
    "\n",
    "4. Else classify the pixels with lower values in both L and B planes as shadow pixels and others as non-shadow pixels.\n",
    "\n",
    "The shadow detection using this pixel-based method may classify some non shadow pixels as shadow pixels. Isolated pixels are removed using morphological\n",
    "operation called cleaning.\n",
    "\n",
    "The misclassified pixels are removed using dilation followed by erosion. Also area-based thresholding is done, so that only regions with a number of pixels greater than a threshold can be considered as shadow regions. All these morphological operations will help to eliminate misclassification of pixels.\n"
   ]
  },
  {
   "cell_type": "markdown",
   "metadata": {},
   "source": [
    "### 2. Shadow Removal and Edge Correction\n"
   ]
  },
  {
   "cell_type": "markdown",
   "metadata": {},
   "source": [
    "Shadow removal is done by multiplying R, G and B channels of the shadow pixels using appropriate constants. Each shadow region is considered separately. The ratio of the average of each channel in the near non-shadow region to that in the shadow region is taken as a constant for each channel. The shadow regions achieve almost the same illumination as the non-shadow regions. But over-illumination may occur towards the edges of shadow.\n",
    "\n",
    "Since shadow regions are not uniformly illuminated, the same constant for the entire shadow region will create over-illuminated areas near the shadow edges. This is overcome by applying a median filter on the over-illuminated areas. Thus a shadow-free image without over-illuminated edges is obtained.\n"
   ]
  },
  {
   "cell_type": "markdown",
   "metadata": {},
   "source": [
    "## Implementation"
   ]
  },
  {
   "cell_type": "code",
   "execution_count": null,
   "metadata": {},
   "outputs": [],
   "source": [
    "from expt_utils import *"
   ]
  },
  {
   "cell_type": "code",
   "execution_count": null,
   "metadata": {},
   "outputs": [],
   "source": [
    "def find_shadow_mask(img_rgb, cln_kernel=np.ones((3, 3), np.uint8)):\n",
    "    \"\"\"\n",
    "    ...\n",
    "    \"\"\"\n",
    "    img_lab = cv.cvtColor(img_rgb, cv.COLOR_RGB2LAB)\n",
    "\n",
    "    mean_l = np.mean(img_lab[:, :, 0])\n",
    "    mean_a = np.mean(img_lab[:, :, 1])\n",
    "    mean_b = np.mean(img_lab[:, :, 2])\n",
    "    std_l = np.std(img_lab[:, :, 0])\n",
    "\n",
    "    shadow_mask = (\n",
    "        (img_lab[:, :, 0] <= (mean_l - std_l / 3))\n",
    "        if mean_a + mean_b <= 256 else\n",
    "        ((img_lab[:, :, 0] < mean_l) & (img_lab[:, :, 2] < mean_b))\n",
    "    ).astype(np.uint8) * 255\n",
    "\n",
    "    shadow_mask_cln = cv.morphologyEx(shadow_mask, cv.MORPH_OPEN, cln_kernel)\n",
    "    shadow_mask_cln = cv.dilate(shadow_mask_cln, cln_kernel, iterations=1)\n",
    "    shadow_mask_cln = cv.erode(shadow_mask_cln, cln_kernel, iterations=1)\n",
    "\n",
    "    return shadow_mask_cln"
   ]
  },
  {
   "cell_type": "code",
   "execution_count": null,
   "metadata": {},
   "outputs": [],
   "source": [
    "def shadow_remove(img, shadow_mask):\n",
    "    \"\"\"\n",
    "    ...\n",
    "    \"\"\"\n",
    "    img_float = img.astype(np.float32)\n",
    "\n",
    "    in_shadow_pixels = np.where(shadow_mask)\n",
    "    out_shadow_pixels = np.where(~shadow_mask)\n",
    "\n",
    "    avg_rgb_in_shadow = np.array([\n",
    "        np.mean(img_float[*in_shadow_pixels, c])\n",
    "        for c in range(3)\n",
    "    ])\n",
    "    avg_rgb_out_shadow = np.array([\n",
    "        np.mean(img_float[*out_shadow_pixels, c])\n",
    "        for c in range(3)\n",
    "    ])\n",
    "    constants = avg_rgb_out_shadow / avg_rgb_in_shadow\n",
    "\n",
    "    for c in range(3):\n",
    "        img_float[*in_shadow_pixels, c] *= constants[c]\n",
    "\n",
    "    img_shadow_removed = np.clip(img_float, 0, 255).astype(np.uint8)\n",
    "    return img_shadow_removed"
   ]
  },
  {
   "cell_type": "code",
   "execution_count": null,
   "metadata": {},
   "outputs": [],
   "source": [
    "img_rgb = plt.imread(f'{DS_DIR}/frames/train/00049/00049_3880.jpg')\n",
    "img_lab = cv.cvtColor(img_rgb, cv.COLOR_RGB2LAB)\n",
    "\n",
    "img_l, img_a, img_b = cv.split(img_lab)\n",
    "\n",
    "hist_l = cv.calcHist([img_lab], [0], None, [256], [0, 256]).flatten()\n",
    "hist_a = cv.calcHist([img_lab], [1], None, [256], [0, 256]).flatten()\n",
    "hist_b = cv.calcHist([img_lab], [2], None, [256], [0, 256]).flatten()\n",
    "\n",
    "plt.figure(figsize=(10, 6), tight_layout=True)\n",
    "\n",
    "plt.subplot(3, 3, (1, 3)), plt.axis('off'), plt.title('Image')\n",
    "plt.imshow(img_rgb)\n",
    "\n",
    "\n",
    "plt.subplot(3, 3, 4), plt.axis('off'), plt.title('L Channel')\n",
    "plt.imshow(img_l, cmap='gray')\n",
    "\n",
    "plt.subplot(3, 3, 5), plt.axis('off'), plt.title('A Channel')\n",
    "plt.imshow(img_a, cmap='gray')\n",
    "\n",
    "plt.subplot(3, 3, 6), plt.axis('off'), plt.title('B Channel')\n",
    "plt.imshow(img_b, cmap='gray')\n",
    "\n",
    "plt.subplot(3, 3, 7), plt.title('L Channel Histogram')\n",
    "plt.bar(range(256), hist_l, color='k')\n",
    "\n",
    "plt.subplot(3, 3, 8), plt.title('A Channel Histogram')\n",
    "plt.bar(range(256), hist_a, color='k')\n",
    "\n",
    "plt.subplot(3, 3, 9), plt.title('B Channel Histogram')\n",
    "plt.bar(range(256), hist_b, color='k')\n",
    "\n",
    "plt.savefig(f'{OUT_DIR}/03-01-img_lab_hist')"
   ]
  },
  {
   "cell_type": "code",
   "execution_count": null,
   "metadata": {},
   "outputs": [],
   "source": [
    "img_shadow_mask = find_shadow_mask(img_rgb)\n",
    "img_shadow_removed = shadow_remove(img_rgb, img_shadow_mask)\n",
    "\n",
    "plt.figure(figsize=(10, 2.3), tight_layout=True)\n",
    "\n",
    "plt.subplot(1, 3, 1), plt.axis('off'), plt.title('Image')\n",
    "plt.imshow(img_rgb)\n",
    "\n",
    "plt.subplot(1, 3, 2), plt.axis('off'), plt.title('Shadow Mask')\n",
    "plt.imshow(img_shadow_mask, cmap='gray')\n",
    "\n",
    "plt.subplot(1, 3, 3), plt.axis('off'), plt.title('Image Shadow Removed')\n",
    "plt.imshow(img_shadow_removed)\n",
    "\n",
    "plt.savefig(f'{OUT_DIR}/03-01-detect_and_remove_shadow')"
   ]
  },
  {
   "cell_type": "markdown",
   "metadata": {},
   "source": [
    "## Conclusion"
   ]
  },
  {
   "cell_type": "markdown",
   "metadata": {},
   "source": [
    "We found that shadow edge correction is done to reduce the errors in the shadow boundary very well.\n",
    "\n",
    "We only could reduce the errors in the shadow and not to remove it at all because several factors, for examples:\n",
    "- Extract shadows only from a single image: this lead the algorithm to Limited Perspective, Ambiguity in Shadow Detection and Loss of Depth Information.\n",
    "- Non-uniform illumination: The illumination is not uniform in the shadow region. Towards the shadow boundary, diffusion takes place."
   ]
  }
 ],
 "metadata": {
  "kernelspec": {
   "display_name": "Python 3",
   "language": "python",
   "name": "python3"
  },
  "language_info": {
   "codemirror_mode": {
    "name": "ipython",
    "version": 3
   },
   "file_extension": ".py",
   "mimetype": "text/x-python",
   "name": "python",
   "nbconvert_exporter": "python",
   "pygments_lexer": "ipython3",
   "version": "3.11.8"
  }
 },
 "nbformat": 4,
 "nbformat_minor": 2
}
