{
 "cells": [
  {
   "cell_type": "markdown",
   "metadata": {},
   "source": [
    "# Object Detection Manually Techniques"
   ]
  },
  {
   "cell_type": "markdown",
   "metadata": {},
   "source": [
    "## Introduction"
   ]
  },
  {
   "cell_type": "markdown",
   "metadata": {},
   "source": [
    "Overall our first step at Object Detection will be with manual methods, this will offer a valuable learning experience, enabling us to develop fundamental skills and gain practical insights for further exploration and advancement in the field of image processing in context of Object Detection.\n",
    "\n",
    "These manual ways will include Background Model Initialization and Adaptive Background Subtraction with Gaussian Mixture Models (GMM)"
   ]
  },
  {
   "cell_type": "markdown",
   "metadata": {},
   "source": [
    "## Background"
   ]
  },
  {
   "cell_type": "markdown",
   "metadata": {},
   "source": [
    "...\n",
    "\n",
    "...\n",
    "\n",
    "..."
   ]
  },
  {
   "cell_type": "markdown",
   "metadata": {},
   "source": [
    "## Implementation"
   ]
  },
  {
   "cell_type": "markdown",
   "metadata": {},
   "source": [
    "The two ways depend on subtracting each frame from the first frame, this will lead to separate foreground objects from the background in image sequences,\n",
    "the foreground objects include the objects that have moved frame by frame.\n",
    "\n",
    "But there is a significant difference in  how the background model is initialized and updated between these approaches:\n",
    "\n",
    "<u>**1.Background Model Initialization:**</u> initializes the background model using the first frame and calculates the foreground mask based on pixel-wise differences.\n",
    "\n",
    "<u>**2.Adaptive Background Subtraction with Gaussian Mixture Models (GMM):**</u> uses an adaptive background subtraction algorithm based on Gaussian mixture model, which automatically updates the background model internally without explicit initialization and manual thresholding.\n",
    "\n",
    "after that we apply a threshold to prepare the result image for object detection process."
   ]
  },
  {
   "cell_type": "code",
   "execution_count": null,
   "metadata": {},
   "outputs": [],
   "source": [
    "import numpy as np\n",
    "import matplotlib.pyplot as plt\n",
    "import cv2 as cv\n",
    "import os\n",
    "\n",
    "from expt_utils import *"
   ]
  },
  {
   "cell_type": "markdown",
   "metadata": {},
   "source": [
    "### Background Model Initialization"
   ]
  },
  {
   "cell_type": "code",
   "execution_count": 16,
   "metadata": {},
   "outputs": [],
   "source": [
    "frames_dir = f'{DS_DIR}/frames/test/00062'\n",
    "frames_files = sorted([\n",
    "    os.path.join(frames_dir, file_name)\n",
    "    for file_name in os.listdir(frames_dir)\n",
    "    if file_name.endswith('.jpg')\n",
    "])\n",
    "num_frames = len(frames_files)\n",
    "\n",
    "bg_frame = cv.imread(frames_files[0])\n",
    "bg_frame_gray = cv.cvtColor(bg_frame, cv.COLOR_BGR2GRAY).astype(np.float32)\n",
    "\n",
    "def show_frame(frame_idx):\n",
    "    img = cv.imread(frames_files[frame_idx])\n",
    "    img_gray = cv.cvtColor(img, cv.COLOR_BGR2GRAY).astype(np.float32)\n",
    "    img_diff = cv.absdiff(img_gray, bg_frame_gray).astype(np.uint8)\n",
    "    _, fg_mask = cv.threshold(img_diff, 30, 255, cv.THRESH_BINARY)\n",
    "\n",
    "    cv.imshow('Frame', img)\n",
    "    cv.imshow('Differential Frame', img_diff)\n",
    "    cv.imshow('Foreground Mask', fg_mask)\n",
    "\n",
    "show_frame(0)\n",
    "cv.createTrackbar('Frame', 'Frame', 0, num_frames-1, show_frame)\n",
    "\n",
    "destroy_when_esc()"
   ]
  },
  {
   "cell_type": "markdown",
   "metadata": {},
   "source": [
    "### Adaptive Background Subtraction with Gaussian Mixture Models (GMM)"
   ]
  },
  {
   "cell_type": "code",
   "execution_count": 18,
   "metadata": {},
   "outputs": [],
   "source": [
    "bg_subtractor = cv.createBackgroundSubtractorMOG2()\n",
    "\n",
    "def show_frame(frame_idx):\n",
    "    img = cv.imread(frames_files[frame_idx])\n",
    "    fg_mask = bg_subtractor.apply(img)\n",
    "\n",
    "    cv.imshow('Frame', img)\n",
    "    cv.imshow('Foreground Mask', fg_mask)\n",
    "\n",
    "show_frame(0)\n",
    "cv.createTrackbar('Frame', 'Frame', 0, num_frames-1, show_frame)\n",
    "\n",
    "destroy_when_esc()"
   ]
  },
  {
   "cell_type": "markdown",
   "metadata": {},
   "source": [
    "### Contour Detection"
   ]
  },
  {
   "cell_type": "code",
   "execution_count": 19,
   "metadata": {},
   "outputs": [],
   "source": [
    "min_area_threshold = 200\n",
    "max_area_threshold = 1000  \n",
    "\n",
    "\n",
    "def show_frame(frame_idx):\n",
    "    img = cv.imread(frames_files[frame_idx])\n",
    "    img_gray = cv.cvtColor(img, cv.COLOR_BGR2GRAY)\n",
    "    blurred_frame = cv.GaussianBlur(img_gray, (5, 5), 0)\n",
    "    edges = cv.Canny(blurred_frame, 50, 150)\n",
    "    contours, _ = cv.findContours(edges, cv.RETR_EXTERNAL, cv.CHAIN_APPROX_SIMPLE)\n",
    "    vehicles = []\n",
    "    for contour in contours:\n",
    "        area = cv.contourArea(contour)\n",
    "        if min_area_threshold < area < max_area_threshold:\n",
    "            vehicles.append(contour)\n",
    "    frame_with_vehicles = img.copy()\n",
    "    cv.drawContours(frame_with_vehicles, vehicles, -1, (0, 255, 0), 2)\n",
    "    cv.imshow('Frame with Vehicles', frame_with_vehicles)\n",
    "\n",
    "show_frame(0)\n",
    "cv.createTrackbar('Frame', 'Frame with Vehicles', 0, num_frames-1, show_frame)\n",
    "\n",
    "destroy_when_esc()"
   ]
  },
  {
   "cell_type": "markdown",
   "metadata": {},
   "source": [
    "## Conclusion"
   ]
  },
  {
   "cell_type": "markdown",
   "metadata": {},
   "source": [
    "...\n",
    "\n",
    "...\n",
    "\n",
    "..."
   ]
  }
 ],
 "metadata": {
  "kernelspec": {
   "display_name": "Python 3",
   "language": "python",
   "name": "python3"
  },
  "language_info": {
   "codemirror_mode": {
    "name": "ipython",
    "version": 3
   },
   "file_extension": ".py",
   "mimetype": "text/x-python",
   "name": "python",
   "nbconvert_exporter": "python",
   "pygments_lexer": "ipython3",
   "version": "3.12.2"
  }
 },
 "nbformat": 4,
 "nbformat_minor": 2
}
