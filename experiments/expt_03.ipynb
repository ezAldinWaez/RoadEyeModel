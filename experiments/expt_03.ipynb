{
 "cells": [
  {
   "cell_type": "markdown",
   "metadata": {},
   "source": [
    "# Enhance Images Using Distance Gray"
   ]
  },
  {
   "cell_type": "markdown",
   "metadata": {},
   "source": [
    "## Introduction"
   ]
  },
  {
   "cell_type": "markdown",
   "metadata": {},
   "source": [
    "When we convert a road image to gray scale, the color of the road would be in the med of the scale, and some of the cars colors would be bellow it, and some of them would be above it, like the following image:\n",
    "\n",
    "<img src=\"img/img_to_gray.png\"/>\n",
    "\n",
    "The problem is that we cannot apply binary thresholding without loosing the cars.\n",
    "\n",
    "In this lab, we'll try a better way (i.e. Distance Gray) to convert Road-Image to grayscale, which will fix that problem, and then we'll convert it to binary to compare the results."
   ]
  },
  {
   "cell_type": "markdown",
   "metadata": {},
   "source": [
    "## Background"
   ]
  },
  {
   "cell_type": "markdown",
   "metadata": {},
   "source": [
    "The idea of distance gray is to replace each pixel in the image (which has 3 values) with the ecludian distance between its and a specific base color (i.e. the street color).\n",
    "\n",
    "As a test, we'll hard coded the street color, but later we can make it calculated depending on the image (e.g. by choosing the most repeated color in the image after removing fixed stuff). \n",
    "\n",
    "We can calculate the distance between $P$ vector and $C$ vector with the same length $n$ by the following formula:\n",
    "\n",
    "$$ D=\\sqrt{\\sum_{i=1}^n{(p_i - c_i)^2}} $$\n",
    "\n",
    "After that, we'll normalize the image to get better results."
   ]
  },
  {
   "cell_type": "markdown",
   "metadata": {},
   "source": [
    "## Implementation"
   ]
  },
  {
   "cell_type": "code",
   "execution_count": null,
   "metadata": {},
   "outputs": [],
   "source": [
    "import matplotlib.pyplot as plt\n",
    "import numpy as np\n",
    "import cv2\n",
    "\n",
    "from expt_utils import *"
   ]
  },
  {
   "cell_type": "code",
   "execution_count": null,
   "metadata": {},
   "outputs": [],
   "source": [
    "OUT_DIR = make_out_dir('03')"
   ]
  },
  {
   "cell_type": "code",
   "execution_count": null,
   "metadata": {},
   "outputs": [],
   "source": [
    "def img_to_dist_gray(img, base_color):\n",
    "    \"\"\"\n",
    "    Convert the given `img` to grayscale depending on how\n",
    "    much each pixel is difference with the `base_color`.\n",
    "    \"\"\"\n",
    "    hight, width, num_channels = img.shape\n",
    "\n",
    "    pixels = img.reshape((hight * width, num_channels))\n",
    "\n",
    "    img_dist_gray = np.array([\n",
    "        np.sqrt(np.sum((base_color - pixel) ** 2))\n",
    "        for pixel in pixels\n",
    "    ]).reshape(hight, width)\n",
    "\n",
    "    img_dist_gray_norm = cv2.normalize(\n",
    "        src=img_dist_gray,\n",
    "        dst=None,\n",
    "        alpha=0,\n",
    "        beta=255,\n",
    "        norm_type=cv2.NORM_MINMAX,\n",
    "        dtype=cv2.CV_8U,\n",
    "    )\n",
    "\n",
    "    return img_dist_gray_norm"
   ]
  },
  {
   "cell_type": "code",
   "execution_count": null,
   "metadata": {},
   "outputs": [],
   "source": [
    "def street_color(road_img):\n",
    "    \"\"\"\n",
    "    Calculate the street color (or shoud be doing that, now its just return a static value ... )\n",
    "    \"\"\"\n",
    "    road_color = (110, 114, 109)\n",
    "    return road_color"
   ]
  },
  {
   "cell_type": "code",
   "execution_count": null,
   "metadata": {},
   "outputs": [],
   "source": [
    "img = plt.imread('../dataset/frames/train/00010/00010_2280.jpg')\n",
    "img_norm_gray = cv2.cvtColor(img, cv2.COLOR_BGR2GRAY)\n",
    "img_norm_bin = cv2.threshold(img_norm_gray, 127, 255, cv2.THRESH_BINARY)[1]\n",
    "img_dist_gray = img_to_dist_gray(img, street_color(img))\n",
    "img_distance_bin = cv2.threshold(img_dist_gray, 90, 255, cv2.THRESH_BINARY)[1]\n",
    "\n",
    "plt.figure(figsize=(10, 9), tight_layout=True)\n",
    "\n",
    "plt.subplot(3, 2, (1, 2)), plt.axis('off'), plt.title('Original Image')\n",
    "plt.imshow(img)\n",
    "\n",
    "plt.subplot(3, 2, 3), plt.axis('off'), plt.title('Normal Gray')\n",
    "plt.imshow(img_norm_gray, cmap='gray')\n",
    "\n",
    "plt.subplot(3, 2, 4), plt.axis('off'), plt.title('Normal Binary')\n",
    "plt.imshow(img_norm_bin, cmap='gray')\n",
    "\n",
    "plt.subplot(3, 2, 5), plt.axis('off'), plt.title('Distance Gray')\n",
    "plt.imshow(img_dist_gray, cmap='gray')\n",
    "\n",
    "plt.subplot(3, 2, 6), plt.axis('off'), plt.title('Distance Binary')\n",
    "plt.imshow(img_distance_bin, cmap='gray')\n",
    "\n",
    "plt.savefig(f\"{OUT_DIR}/1-normal_gray_vs_distance_gray.png\",\n",
    "            format='png', bbox_inches='tight')"
   ]
  },
  {
   "cell_type": "markdown",
   "metadata": {},
   "source": [
    "## Conclusion <span id='conc'/>"
   ]
  },
  {
   "cell_type": "markdown",
   "metadata": {},
   "source": [
    "As conclusion, the distance gray gave a much better results comparing to normal gray."
   ]
  }
 ],
 "metadata": {
  "kernelspec": {
   "display_name": "Python 3",
   "language": "python",
   "name": "python3"
  },
  "language_info": {
   "codemirror_mode": {
    "name": "ipython",
    "version": 3
   },
   "file_extension": ".py",
   "mimetype": "text/x-python",
   "name": "python",
   "nbconvert_exporter": "python",
   "pygments_lexer": "ipython3",
   "version": "3.11.8"
  }
 },
 "nbformat": 4,
 "nbformat_minor": 2
}
