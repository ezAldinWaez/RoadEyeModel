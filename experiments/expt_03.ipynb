{
 "cells": [
  {
   "cell_type": "markdown",
   "metadata": {},
   "source": [
    "# \\[expt 02\\]: Distance Gray"
   ]
  },
  {
   "cell_type": "markdown",
   "metadata": {},
   "source": [
    "## Introduction\n",
    "\n",
    "When we convert a road image to gray scale, the color of the road would be in the med of the scale, and some of the cars colors would be bellow it, and some of them would be above it, like the following image:\n",
    "\n",
    "<img src=\"img/02/img_02_1.png\"/>\n",
    "\n",
    "The problem is that we cannot apply binary thresholding without loosing the cars.\n",
    "\n",
    "In this lab, we'll try a better way (i.e. Distance Gray) to convert Road-Image to grayscale, which will fix that problem, and then we'll convert it to binary to compare the results."
   ]
  },
  {
   "cell_type": "markdown",
   "metadata": {},
   "source": [
    "## Background\n",
    "\n",
    "The idea of distance gray is to replace each pixel in the image (which has 3 values) with the ecludian distance between its and a specific base color (i.e. the street color).\n",
    "\n",
    "As a test, we'll hard coded the street color, but later we can make it calculated depending on the image (e.g. by choosing the most repeated color in the image after removing fixed stuff). \n",
    "\n",
    "We can calculate the distance between $P$ vector and $C$ vector with the same length $n$ by the following formula:\n",
    "\n",
    "$$ D=\\sqrt{\\sum_{i=1}^n{(p_i - c_i)^2}} $$\n",
    "\n",
    "After that, we'll normalize the image to get better results."
   ]
  },
  {
   "cell_type": "markdown",
   "metadata": {},
   "source": [
    "## Implementation"
   ]
  },
  {
   "cell_type": "code",
   "execution_count": null,
   "metadata": {},
   "outputs": [],
   "source": [
    "import matplotlib.pyplot as plt\n",
    "import numpy as np\n",
    "import cv2\n",
    "import os"
   ]
  },
  {
   "cell_type": "code",
   "execution_count": null,
   "metadata": {},
   "outputs": [],
   "source": [
    "def img_to_dist_gray(img, base_color):\n",
    "    \"\"\"\n",
    "    Convert the given `img` to grayscale depending on how\n",
    "    much each pixel is difference with the `base_color`.\n",
    "    \"\"\"\n",
    "    hight, width, num_channels = img.shape\n",
    "\n",
    "    pixels = img.reshape((hight * width, num_channels))\n",
    "\n",
    "    img_dist_gray = np.array([\n",
    "        np.sqrt(np.sum((base_color - pixel) ** 2))\n",
    "        for pixel in pixels\n",
    "    ]).reshape(hight, width)\n",
    "\n",
    "    img_dist_gray_norm = cv2.normalize(\n",
    "        src=img_dist_gray,\n",
    "        dst=None,\n",
    "        alpha=0,\n",
    "        beta=255,\n",
    "        norm_type=cv2.NORM_MINMAX,\n",
    "        dtype=cv2.CV_8U,\n",
    "    )\n",
    "\n",
    "    return img_dist_gray_norm"
   ]
  },
  {
   "cell_type": "code",
   "execution_count": null,
   "metadata": {},
   "outputs": [],
   "source": [
    "def street_color(road_img):\n",
    "    \"\"\"\n",
    "    Calculate the street color (or shoud be doing that, now its just return a static value ... )\n",
    "    \"\"\"\n",
    "    road_color = (110, 114, 109)\n",
    "    return road_color"
   ]
  },
  {
   "cell_type": "code",
   "execution_count": null,
   "metadata": {},
   "outputs": [],
   "source": [
    "img = plt.imread('../dataset/frames/train/00010/00010_2280.jpg')\n",
    "img_norm_gray = cv2.cvtColor(img, cv2.COLOR_BGR2GRAY)\n",
    "img_norm_bin = cv2.threshold(img_norm_gray, 127, 255, cv2.THRESH_BINARY)[1]\n",
    "img_dist_gray = img_to_dist_gray(img, street_color(img))\n",
    "img_distance_bin = cv2.threshold(img_dist_gray, 90, 255, cv2.THRESH_BINARY)[1]\n",
    "\n",
    "plt.figure(figsize=(20, 8))\n",
    "\n",
    "plt.subplot(2, 3, (1, 4))\n",
    "plt.imshow(img)\n",
    "plt.title('Original Image')\n",
    "plt.axis('off')\n",
    "\n",
    "plt.subplot(2, 3, 2)\n",
    "plt.imshow(img_norm_gray, cmap='gray')\n",
    "plt.title('Normal Gray')\n",
    "plt.axis('off')\n",
    "\n",
    "plt.subplot(2, 3, 3)\n",
    "plt.imshow(img_norm_bin, cmap='gray')\n",
    "plt.title('Normal Binary')\n",
    "plt.axis('off')\n",
    "\n",
    "plt.subplot(2, 3, 5)\n",
    "plt.imshow(img_dist_gray, cmap='gray')\n",
    "plt.title('Distance Gray')\n",
    "plt.axis('off')\n",
    "\n",
    "plt.subplot(2, 3, 6)\n",
    "plt.imshow(img_distance_bin, cmap='gray')\n",
    "plt.title('Distance Binary')\n",
    "plt.axis('off')\n",
    "\n",
    "os.makedirs('out/02/', exist_ok=True)\n",
    "plt.savefig('out/02/normal_gray_vs_distance_gray.png')"
   ]
  },
  {
   "cell_type": "markdown",
   "metadata": {},
   "source": [
    "## Conclusion\n",
    "\n",
    "As conclusion, the distance gray gave a much better results comparing to normal gray."
   ]
  }
 ],
 "metadata": {
  "kernelspec": {
   "display_name": "Python 3",
   "language": "python",
   "name": "python3"
  },
  "language_info": {
   "codemirror_mode": {
    "name": "ipython",
    "version": 3
   },
   "file_extension": ".py",
   "mimetype": "text/x-python",
   "name": "python",
   "nbconvert_exporter": "python",
   "pygments_lexer": "ipython3",
   "version": "3.11.8"
  }
 },
 "nbformat": 4,
 "nbformat_minor": 2
}
