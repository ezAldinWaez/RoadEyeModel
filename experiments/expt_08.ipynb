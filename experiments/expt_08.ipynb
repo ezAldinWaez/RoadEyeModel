{
 "cells": [
  {
   "cell_type": "markdown",
   "metadata": {},
   "source": [
    "# [expt_08]: Filter Image Thresholding and Object Matching Evaluation By Mathematical Methods"
   ]
  },
  {
   "cell_type": "code",
   "execution_count": 1,
   "metadata": {},
   "outputs": [],
   "source": [
    "import matplotlib.pyplot as plt\n",
    "import numpy as np\n",
    "import cv2 as cv\n",
    "import os\n",
    "from sklearn.metrics.pairwise import cosine_similarity"
   ]
  },
  {
   "cell_type": "code",
   "execution_count": 3,
   "metadata": {},
   "outputs": [
    {
     "data": {
      "text/plain": [
       "array([  0,   1,   2,   3,   4,   5,   6,   7,   8,   9,  10,  12,  13,\n",
       "        15,  16,  21,  24,  28,  32,  34,  39,  48,  50,  51,  59,  72,\n",
       "        76,  89, 104, 111, 127, 132, 136, 145, 146, 149, 178, 183, 185,\n",
       "       190, 192, 194, 195, 197, 198, 200, 201, 202, 205, 207, 211, 213,\n",
       "       214, 220, 221, 223, 225, 226, 227, 228, 230, 231, 232, 233, 234,\n",
       "       235, 236, 237, 238, 239, 240, 241, 242, 243, 244, 245, 246, 247,\n",
       "       248, 249, 250, 251, 252, 253, 254, 255], dtype=uint8)"
      ]
     },
     "execution_count": 3,
     "metadata": {},
     "output_type": "execute_result"
    }
   ],
   "source": [
    "img = cv.imread('../dataset/frames/train/video29/00029_1640_flip.jpg',0)\n",
    "# _, img_thresh = cv.threshold(img, 0, 255, cv.THRESH_BINARY + cv.THRESH_OTSU)\n",
    "img_ground_truth = cv.imread('../experiments/img/08/ground_truth_image.jpg',0)\n",
    "# _, img_ground_truth = cv.threshold(img_ground_truth, 100, 255, cv.THRESH_BINARY + cv.THRESH_OTSU)\n",
    "\n",
    "cv.imshow('img', img)\n",
    "\n",
    "cv.waitKey(0)\n",
    "cv.destroyAllWindows()\n",
    "np.unique(img_ground_truth)"
   ]
  },
  {
   "cell_type": "code",
   "execution_count": 4,
   "metadata": {},
   "outputs": [],
   "source": [
    "img_med = np.median(img)\n",
    "img_med_lower = int(max(0, 0.7 * img_med))\n",
    "img_med_upper = int(min(255, 1.3 * img_med))\n",
    "\n",
    "img_canny = cv.Canny(img, img_med_lower, img_med_upper)\n",
    "\n",
    "sobel_x = cv.Sobel(img, cv.CV_64F, 1, 0, ksize=3)\n",
    "sobel_y = cv.Sobel(img, cv.CV_64F, 0, 1, ksize=3)\n",
    "img_sobel = cv.magnitude(sobel_x, sobel_y)\n",
    "\n",
    "img_hanny = cv.Laplacian(cv.GaussianBlur(img, (3, 3), 0), cv.CV_64F)\n",
    "\n",
    "img_gaussian = cv.GaussianBlur(img, (3,3), 0)\n",
    "\n",
    "cv.imshow('img_canny',img_canny)\n",
    "cv.imshow('img_sobel',img_sobel)\n",
    "cv.imshow('img_hanny',img_hanny)\n",
    "cv.imshow('img_gaussian',img_gaussian)\n",
    "\n",
    "cv.waitKey(0)\n",
    "cv.destroyAllWindows()"
   ]
  },
  {
   "cell_type": "markdown",
   "metadata": {},
   "source": [
    "# correlation coeficient"
   ]
  },
  {
   "cell_type": "code",
   "execution_count": 40,
   "metadata": {},
   "outputs": [
    {
     "name": "stdout",
     "output_type": "stream",
     "text": [
      "0.0604780128403794 0.10917695743374259 -0.0009507603683869323 0.010914765842584299\n"
     ]
    }
   ],
   "source": [
    "corrcof_canny = np.corrcoef(img_canny.flatten(), img_ground_truth.flatten())[0,1]\n",
    "corrcof_sobel = np.corrcoef(img_sobel.flatten(), img_ground_truth.flatten())[0,1]\n",
    "corrcof_hanny = np.corrcoef(img_hanny.flatten(), img_ground_truth.flatten())[0,1]\n",
    "corrcof_gaussian = np.corrcoef(img_gaussian.flatten(), img_ground_truth.flatten())[0,1]\n",
    "\n",
    "print(corrcof_canny,corrcof_sobel,corrcof_hanny,corrcof_gaussian)"
   ]
  },
  {
   "cell_type": "code",
   "execution_count": 50,
   "metadata": {},
   "outputs": [
    {
     "name": "stdout",
     "output_type": "stream",
     "text": [
      "0.03673469048885637 0.14825301643589442 0.0038651689408835408 -0.01976985358156449\n"
     ]
    }
   ],
   "source": [
    "corrcof_canny = np.corrcoef(img_canny.flatten(), img_ground_truth.flatten())[0,1]\n",
    "corrcof_sobel = np.corrcoef(img_sobel.flatten(), img_ground_truth.flatten())[0,1]\n",
    "corrcof_hanny = np.corrcoef(img_hanny.flatten(), img_ground_truth.flatten())[0,1]\n",
    "corrcof_gaussian = np.corrcoef(img_gaussian.flatten(), img_ground_truth.flatten())[0,1]\n",
    "\n",
    "print(corrcof_canny,corrcof_sobel,corrcof_hanny,corrcof_gaussian)"
   ]
  },
  {
   "cell_type": "markdown",
   "metadata": {},
   "source": [
    "# distance eculodian"
   ]
  },
  {
   "cell_type": "code",
   "execution_count": 41,
   "metadata": {},
   "outputs": [
    {
     "name": "stdout",
     "output_type": "stream",
     "text": [
      "17040.0 16552493.0 4313263.0 inf\n"
     ]
    },
    {
     "name": "stderr",
     "output_type": "stream",
     "text": [
      "c:\\Users\\shakr\\AppData\\Local\\Programs\\Python\\Python312\\Lib\\site-packages\\numpy\\core\\fromnumeric.py:88: RuntimeWarning: overflow encountered in reduce\n",
      "  return ufunc.reduce(obj, axis, dtype, out, **passkwargs)\n"
     ]
    }
   ],
   "source": [
    "img_canny_diff = np.sqrt((img_canny - img_ground_truth)**2)\n",
    "img_sobel_diff = np.sqrt((img_sobel - img_ground_truth)**2)\n",
    "img_hanny_diff = np.sqrt((img_hanny - img_ground_truth)**2)\n",
    "img_gaussian_diff = np.sqrt((img_gaussian - img_ground_truth)**2)\n",
    "\n",
    "dis_ecl_canny = np.sum(img_canny_diff)\n",
    "dis_ecl_sobel = np.sum(img_sobel_diff)\n",
    "dis_ecl_hanny = np.sum(img_hanny_diff)\n",
    "dis_ecl_gaussian = np.sum(img_gaussian_diff)\n",
    "\n",
    "dis_ecl_canny = np.floor(dis_ecl_canny)\n",
    "dis_ecl_sobel = np.floor(dis_ecl_sobel)\n",
    "dis_ecl_hanny = np.floor(dis_ecl_hanny)\n",
    "dis_ecl_gaussian = np.floor(dis_ecl_gaussian)\n",
    "\n",
    "print(dis_ecl_canny,dis_ecl_sobel,dis_ecl_hanny,dis_ecl_gaussian)"
   ]
  },
  {
   "cell_type": "code",
   "execution_count": 51,
   "metadata": {},
   "outputs": [
    {
     "name": "stdout",
     "output_type": "stream",
     "text": [
      "60130.0 22970897.0 4913056.0 inf\n"
     ]
    },
    {
     "name": "stderr",
     "output_type": "stream",
     "text": [
      "c:\\Users\\shakr\\AppData\\Local\\Programs\\Python\\Python312\\Lib\\site-packages\\numpy\\core\\fromnumeric.py:88: RuntimeWarning: overflow encountered in reduce\n",
      "  return ufunc.reduce(obj, axis, dtype, out, **passkwargs)\n"
     ]
    }
   ],
   "source": [
    "img_canny_diff = np.sqrt((img_canny - img_ground_truth)**2)\n",
    "img_sobel_diff = np.sqrt((img_sobel - img_ground_truth)**2)\n",
    "img_hanny_diff = np.sqrt((img_hanny - img_ground_truth)**2)\n",
    "img_gaussian_diff = np.sqrt((img_gaussian - img_ground_truth)**2)\n",
    "\n",
    "dis_ecl_canny = np.sum(img_canny_diff)\n",
    "dis_ecl_sobel = np.sum(img_sobel_diff)\n",
    "dis_ecl_hanny = np.sum(img_hanny_diff)\n",
    "dis_ecl_gaussian = np.sum(img_gaussian_diff)\n",
    "\n",
    "dis_ecl_canny = np.floor(dis_ecl_canny)\n",
    "dis_ecl_sobel = np.floor(dis_ecl_sobel)\n",
    "dis_ecl_hanny = np.floor(dis_ecl_hanny)\n",
    "dis_ecl_gaussian = np.floor(dis_ecl_gaussian)\n",
    "\n",
    "print(dis_ecl_canny,dis_ecl_sobel,dis_ecl_hanny,dis_ecl_gaussian)"
   ]
  },
  {
   "cell_type": "markdown",
   "metadata": {},
   "source": [
    "# cos theta"
   ]
  },
  {
   "cell_type": "code",
   "execution_count": 42,
   "metadata": {},
   "outputs": [
    {
     "name": "stdout",
     "output_type": "stream",
     "text": [
      "0.08129497632150105 0.13726460128942114 -0.0009572710663644648 0.06529305966179212\n"
     ]
    }
   ],
   "source": [
    "img_canny_pixels = img_canny.flatten().reshape(1,-1)\n",
    "img_sobel_pixels = img_sobel.flatten().reshape(1,-1)\n",
    "img_hanny_pixels = img_hanny.flatten().reshape(1,-1)\n",
    "img_gaussian_pixels = img_gaussian.flatten().reshape(1,-1)\n",
    "img_ground_truth_pixels = img_ground_truth.flatten().reshape(1,-1)\n",
    "\n",
    "canny_cos_scr = cosine_similarity(img_canny_pixels, img_ground_truth_pixels)[0][0]\n",
    "sobel_cos_scr = cosine_similarity(img_sobel_pixels, img_ground_truth_pixels)[0][0]\n",
    "hanny_cos_scr = cosine_similarity(img_hanny_pixels, img_ground_truth_pixels)[0][0]\n",
    "gaussian_cos_scr = cosine_similarity(img_gaussian_pixels, img_ground_truth_pixels)[0][0]\n",
    "\n",
    "print(canny_cos_scr,sobel_cos_scr,hanny_cos_scr,gaussian_cos_scr)"
   ]
  },
  {
   "cell_type": "code",
   "execution_count": 52,
   "metadata": {},
   "outputs": [
    {
     "name": "stdout",
     "output_type": "stream",
     "text": [
      "0.08973680136002392 0.21231251590642 0.0038074558546633145 0.13605676984812\n"
     ]
    }
   ],
   "source": [
    "img_canny_pixels = img_canny.flatten().reshape(1,-1)\n",
    "img_sobel_pixels = img_sobel.flatten().reshape(1,-1)\n",
    "img_hanny_pixels = img_hanny.flatten().reshape(1,-1)\n",
    "img_gaussian_pixels = img_gaussian.flatten().reshape(1,-1)\n",
    "img_ground_truth_pixels = img_ground_truth.flatten().reshape(1,-1)\n",
    "\n",
    "canny_cos_scr = cosine_similarity(img_canny_pixels, img_ground_truth_pixels)[0][0]\n",
    "sobel_cos_scr = cosine_similarity(img_sobel_pixels, img_ground_truth_pixels)[0][0]\n",
    "hanny_cos_scr = cosine_similarity(img_hanny_pixels, img_ground_truth_pixels)[0][0]\n",
    "gaussian_cos_scr = cosine_similarity(img_gaussian_pixels, img_ground_truth_pixels)[0][0]\n",
    "\n",
    "print(canny_cos_scr,sobel_cos_scr,hanny_cos_scr,gaussian_cos_scr)"
   ]
  }
 ],
 "metadata": {
  "kernelspec": {
   "display_name": "Python 3",
   "language": "python",
   "name": "python3"
  },
  "language_info": {
   "codemirror_mode": {
    "name": "ipython",
    "version": 3
   },
   "file_extension": ".py",
   "mimetype": "text/x-python",
   "name": "python",
   "nbconvert_exporter": "python",
   "pygments_lexer": "ipython3",
   "version": "3.12.2"
  }
 },
 "nbformat": 4,
 "nbformat_minor": 2
}
