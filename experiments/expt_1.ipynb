{
 "cells": [
  {
   "cell_type": "markdown",
   "metadata": {},
   "source": [
    "# Thresholding"
   ]
  },
  {
   "cell_type": "code",
   "execution_count": null,
   "metadata": {},
   "outputs": [],
   "source": [
    "from expt_utils import *"
   ]
  },
  {
   "cell_type": "markdown",
   "metadata": {},
   "source": [
    "## Binary Thresholding"
   ]
  },
  {
   "cell_type": "code",
   "execution_count": null,
   "metadata": {},
   "outputs": [],
   "source": [
    "img = plt.imread(f'{DS_DIR}/val/images/00049_3880.jpg')\n",
    "img_gray = cv.cvtColor(img, cv.COLOR_RGB2GRAY)\n",
    "\n",
    "def _render(thresh):\n",
    "    img_bin_inv = thresh_bin_inv(img_gray, thresh)\n",
    "    cv.imshow('Binary Image', img_bin_inv)\n",
    "\n",
    "\n",
    "_render(thresh=127)\n",
    "cv.createTrackbar('Threshold', 'Binary Image', 127, 255, _render)\n",
    "\n",
    "destroy_when_esc()"
   ]
  },
  {
   "cell_type": "code",
   "execution_count": null,
   "metadata": {},
   "outputs": [],
   "source": [
    "img_bin = thresh_bin(img_gray)\n",
    "img_bin_inv = thresh_bin_inv(img_gray)\n",
    "\n",
    "plt.figure(figsize=(10, 2.5), tight_layout=True)\n",
    "\n",
    "plt.subplot(1, 3, 1), plt.axis('off'), plt.title('Image')\n",
    "plt.imshow(img)\n",
    "\n",
    "plt.subplot(1, 3, 2), plt.axis('off'), plt.title('Binary Threshold (thresh=127)')\n",
    "plt.imshow(img_bin, cmap='gray')\n",
    "\n",
    "plt.subplot(1, 3, 3), plt.axis('off'), plt.title('Binary Threshold Inverse (thresh=127)')\n",
    "plt.imshow(img_bin_inv, cmap='gray')\n",
    "\n",
    "plt.savefig(f'{OUT_DIR}/01-01-threshold_types_bin')"
   ]
  },
  {
   "cell_type": "markdown",
   "metadata": {},
   "source": [
    "## Otsu Thresholding"
   ]
  },
  {
   "cell_type": "code",
   "execution_count": null,
   "metadata": {},
   "outputs": [],
   "source": [
    "img_bin_otsu = thresh_otsu(img_gray)\n",
    "img_bin_otsu_inv = thresh_otsu_inv(img_gray)\n",
    "\n",
    "plt.figure(figsize=(10, 2.5), tight_layout=True)\n",
    "\n",
    "plt.subplot(1, 3, 1), plt.axis('off'), plt.title('Image')\n",
    "plt.imshow(img)\n",
    "\n",
    "plt.subplot(1, 3, 2), plt.axis('off'), plt.title('Otsu Threshold')\n",
    "plt.imshow(img_bin_otsu, cmap='gray')\n",
    "\n",
    "plt.subplot(1, 3, 3), plt.axis('off'), plt.title('Otsu Threshold Inverse')\n",
    "plt.imshow(img_bin_otsu_inv, cmap='gray')\n",
    "\n",
    "plt.savefig(f'{OUT_DIR}/01-02-threshold_types_otsu')"
   ]
  },
  {
   "cell_type": "markdown",
   "metadata": {},
   "source": [
    "## Adaptive Thresholding"
   ]
  },
  {
   "cell_type": "code",
   "execution_count": null,
   "metadata": {},
   "outputs": [],
   "source": [
    "img_bin_adapt_mean = thresh_adapt_mean(img_gray)\n",
    "img_bin_adapt_mean_inv = ~img_bin_adapt_mean\n",
    "img_bin_adapt_gaussian = thresh_adapt_gaussian(img_gray)\n",
    "img_bin_adapt_gaussian_inv = ~img_bin_adapt_gaussian\n",
    "\n",
    "\n",
    "plt.figure(figsize=(10, 2.5), tight_layout=True)\n",
    "\n",
    "plt.subplot(1, 3, 1), plt.axis('off'), plt.title('Image')\n",
    "plt.imshow(img)\n",
    "\n",
    "plt.subplot(1, 3, 2), plt.axis('off'), plt.title('Adaptive Threshold Inverse (mean)')\n",
    "plt.imshow(img_bin_adapt_mean_inv, cmap='gray')\n",
    "\n",
    "plt.subplot(1, 3, 3), plt.axis('off'), plt.title('Adaptive Threshold Inverse (gussian)')\n",
    "plt.imshow(img_bin_adapt_gaussian_inv, cmap='gray')\n",
    "\n",
    "plt.savefig(f'{OUT_DIR}/01-03-threshold_types_adaptive')"
   ]
  },
  {
   "cell_type": "markdown",
   "metadata": {},
   "source": [
    "## Evaluate and Compare Results"
   ]
  },
  {
   "cell_type": "code",
   "execution_count": null,
   "metadata": {},
   "outputs": [],
   "source": [
    "img_ground_truth = thresh_bin_inv(plt.imread(f'{IMG_DIR}/ground_truth/00049_3880.jpg'), 1)\n",
    "\n",
    "pd.DataFrame([\n",
    "    evaluate(img_bin, img_ground_truth),\n",
    "    evaluate(img_bin_otsu_inv, img_ground_truth),\n",
    "    evaluate(img_bin_adapt_mean_inv, img_ground_truth),\n",
    "    evaluate(img_bin_adapt_gaussian_inv, img_ground_truth),\n",
    "],\n",
    "    index=[\n",
    "        'Binary Thresholding (127)',\n",
    "        'Otsu Thresholding',\n",
    "        'Adaptive Thresholding (mean)',\n",
    "        'Adaptive Thresholding (gaussian)',\n",
    "])"
   ]
  }
 ],
 "metadata": {
  "kernelspec": {
   "display_name": "Python 3",
   "language": "python",
   "name": "python3"
  },
  "language_info": {
   "codemirror_mode": {
    "name": "ipython",
    "version": 3
   },
   "file_extension": ".py",
   "mimetype": "text/x-python",
   "name": "python",
   "nbconvert_exporter": "python",
   "pygments_lexer": "ipython3",
   "version": "3.11.4"
  }
 },
 "nbformat": 4,
 "nbformat_minor": 2
}
